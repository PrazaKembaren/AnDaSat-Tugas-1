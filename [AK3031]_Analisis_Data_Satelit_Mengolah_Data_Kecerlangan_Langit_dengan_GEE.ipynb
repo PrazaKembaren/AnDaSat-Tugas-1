{
  "nbformat": 4,
  "nbformat_minor": 0,
  "metadata": {
    "hide_input": false,
    "kernelspec": {
      "display_name": "Python 3",
      "language": "python",
      "name": "python3"
    },
    "language_info": {
      "codemirror_mode": {
        "name": "ipython",
        "version": 3
      },
      "file_extension": ".py",
      "mimetype": "text/x-python",
      "name": "python",
      "nbconvert_exporter": "python",
      "pygments_lexer": "ipython3",
      "version": "3.7.7"
    },
    "toc": {
      "base_numbering": 1,
      "nav_menu": {},
      "number_sections": false,
      "sideBar": true,
      "skip_h1_title": false,
      "title_cell": "Table of Contents",
      "title_sidebar": "Contents",
      "toc_cell": false,
      "toc_position": {},
      "toc_section_display": true,
      "toc_window_display": false
    },
    "colab": {
      "provenance": [],
      "include_colab_link": true
    },
    "widgets": {
      "application/vnd.jupyter.widget-state+json": {
        "c7810415a4af43dd9651be29b43df1ba": {
          "model_module": "jupyter-leaflet",
          "model_name": "LeafletMapModel",
          "model_module_version": "^0.18",
          "state": {
            "_dom_classes": [],
            "_model_module": "jupyter-leaflet",
            "_model_module_version": "^0.18",
            "_model_name": "LeafletMapModel",
            "_view_count": null,
            "_view_module": "jupyter-leaflet",
            "_view_module_version": "^0.18",
            "_view_name": "LeafletMapView",
            "bottom": 512,
            "bounce_at_zoom_limits": true,
            "box_zoom": true,
            "center": [
              0,
              0
            ],
            "close_popup_on_click": true,
            "controls": [
              "IPY_MODEL_862ea03b835b4d35935152b65c28cbdd",
              "IPY_MODEL_8e2c58fdce924a1a8817a6b56020199c",
              "IPY_MODEL_705ceca171424a24b9afc8ee98de3f30",
              "IPY_MODEL_9334bb5ed5ba4086905c54ccd9d60448",
              "IPY_MODEL_51a516af409045b6b238f19d30f4984b",
              "IPY_MODEL_253fc3f2084e4719ba2e74a39207ce03",
              "IPY_MODEL_dfc266aa41334271829ff6ce09f2a405",
              "IPY_MODEL_e7d18710a1cc4f92a533a84087915d23",
              "IPY_MODEL_902e2e0b6e2d49c281922a10fed6998d"
            ],
            "crs": {
              "name": "EPSG3857",
              "custom": false
            },
            "default_style": "IPY_MODEL_4bb3f59ca42b46f3b33c720217ba5e66",
            "double_click_zoom": true,
            "dragging": true,
            "dragging_style": "IPY_MODEL_2c18edb07695425aa7c53fb1a67507c5",
            "east": 0,
            "fullscreen": false,
            "inertia": true,
            "inertia_deceleration": 3000,
            "inertia_max_speed": 1500,
            "interpolation": "bilinear",
            "keyboard": true,
            "keyboard_pan_offset": 80,
            "keyboard_zoom_offset": 1,
            "layers": [
              "IPY_MODEL_cc8cde20c2504cb88cf5a385e893b861",
              "IPY_MODEL_525b233c96c24ac3bcbd5af4358f994d",
              "IPY_MODEL_05713e973d154e06b0695ca0e666125d"
            ],
            "layout": "IPY_MODEL_362b9385c4c24b759eeb65030d960733",
            "left": 512,
            "max_zoom": 24,
            "min_zoom": null,
            "modisdate": "2023-12-04",
            "north": 0,
            "options": [
              "bounce_at_zoom_limits",
              "box_zoom",
              "center",
              "close_popup_on_click",
              "double_click_zoom",
              "dragging",
              "fullscreen",
              "inertia",
              "inertia_deceleration",
              "inertia_max_speed",
              "interpolation",
              "keyboard",
              "keyboard_pan_offset",
              "keyboard_zoom_offset",
              "max_zoom",
              "min_zoom",
              "prefer_canvas",
              "scroll_wheel_zoom",
              "tap",
              "tap_tolerance",
              "touch_zoom",
              "world_copy_jump",
              "zoom",
              "zoom_animation_threshold",
              "zoom_delta",
              "zoom_snap"
            ],
            "panes": {},
            "prefer_canvas": false,
            "right": 512,
            "scroll_wheel_zoom": true,
            "south": 0,
            "style": "IPY_MODEL_4765685671da47e0bdc5091907d501e6",
            "tap": true,
            "tap_tolerance": 15,
            "top": 512,
            "touch_zoom": true,
            "west": 0,
            "window_url": "https://qeuorri8pgq-496ff2e9c6d22116-0-colab.googleusercontent.com/outputframe.html?vrz=colab_20231130-060122_RC00_586636082",
            "world_copy_jump": false,
            "zoom": 2,
            "zoom_animation_threshold": 4,
            "zoom_delta": 1,
            "zoom_snap": 1
          }
        },
        "862ea03b835b4d35935152b65c28cbdd": {
          "model_module": "jupyter-leaflet",
          "model_name": "LeafletWidgetControlModel",
          "model_module_version": "^0.18",
          "state": {
            "_model_module": "jupyter-leaflet",
            "_model_module_version": "^0.18",
            "_model_name": "LeafletWidgetControlModel",
            "_view_count": null,
            "_view_module": "jupyter-leaflet",
            "_view_module_version": "^0.18",
            "_view_name": "LeafletWidgetControlView",
            "max_height": null,
            "max_width": null,
            "min_height": null,
            "min_width": null,
            "options": [
              "position",
              "transparent_bg"
            ],
            "position": "topleft",
            "transparent_bg": false,
            "widget": "IPY_MODEL_e1162f694cfd48a283b162a2032a8430"
          }
        },
        "8e2c58fdce924a1a8817a6b56020199c": {
          "model_module": "jupyter-leaflet",
          "model_name": "LeafletZoomControlModel",
          "model_module_version": "^0.18",
          "state": {
            "_model_module": "jupyter-leaflet",
            "_model_module_version": "^0.18",
            "_model_name": "LeafletZoomControlModel",
            "_view_count": null,
            "_view_module": "jupyter-leaflet",
            "_view_module_version": "^0.18",
            "_view_name": "LeafletZoomControlView",
            "options": [
              "position",
              "zoom_in_text",
              "zoom_in_title",
              "zoom_out_text",
              "zoom_out_title"
            ],
            "position": "topleft",
            "zoom_in_text": "+",
            "zoom_in_title": "Zoom in",
            "zoom_out_text": "-",
            "zoom_out_title": "Zoom out"
          }
        },
        "705ceca171424a24b9afc8ee98de3f30": {
          "model_module": "jupyter-leaflet",
          "model_name": "LeafletFullScreenControlModel",
          "model_module_version": "^0.18",
          "state": {
            "_model_module": "jupyter-leaflet",
            "_model_module_version": "^0.18",
            "_model_name": "LeafletFullScreenControlModel",
            "_view_count": null,
            "_view_module": "jupyter-leaflet",
            "_view_module_version": "^0.18",
            "_view_name": "LeafletFullScreenControlView",
            "options": [
              "position"
            ],
            "position": "topleft"
          }
        },
        "9334bb5ed5ba4086905c54ccd9d60448": {
          "model_module": "jupyter-leaflet",
          "model_name": "LeafletDrawControlModel",
          "model_module_version": "^0.18",
          "state": {
            "_model_module": "jupyter-leaflet",
            "_model_module_version": "^0.18",
            "_model_name": "LeafletDrawControlModel",
            "_view_count": null,
            "_view_module": "jupyter-leaflet",
            "_view_module_version": "^0.18",
            "_view_name": "LeafletDrawControlView",
            "circle": {},
            "circlemarker": {},
            "data": [],
            "edit": true,
            "marker": {
              "shapeOptions": {
                "color": "#3388ff"
              }
            },
            "options": [
              "position"
            ],
            "polygon": {
              "shapeOptions": {}
            },
            "polyline": {
              "shapeOptions": {}
            },
            "position": "topleft",
            "rectangle": {
              "shapeOptions": {
                "color": "#3388ff"
              }
            },
            "remove": true
          }
        },
        "51a516af409045b6b238f19d30f4984b": {
          "model_module": "jupyter-leaflet",
          "model_name": "LeafletScaleControlModel",
          "model_module_version": "^0.18",
          "state": {
            "_model_module": "jupyter-leaflet",
            "_model_module_version": "^0.18",
            "_model_name": "LeafletScaleControlModel",
            "_view_count": null,
            "_view_module": "jupyter-leaflet",
            "_view_module_version": "^0.18",
            "_view_name": "LeafletScaleControlView",
            "imperial": true,
            "max_width": 100,
            "metric": true,
            "options": [
              "imperial",
              "max_width",
              "metric",
              "position",
              "update_when_idle"
            ],
            "position": "bottomleft",
            "update_when_idle": false
          }
        },
        "253fc3f2084e4719ba2e74a39207ce03": {
          "model_module": "jupyter-leaflet",
          "model_name": "LeafletMeasureControlModel",
          "model_module_version": "^0.18",
          "state": {
            "_custom_units": {},
            "_model_module": "jupyter-leaflet",
            "_model_module_version": "^0.18",
            "_model_name": "LeafletMeasureControlModel",
            "_view_count": null,
            "_view_module": "jupyter-leaflet",
            "_view_module_version": "^0.18",
            "_view_name": "LeafletMeasureControlView",
            "active_color": "orange",
            "capture_z_index": 10000,
            "completed_color": "#C8F2BE",
            "options": [
              "active_color",
              "capture_z_index",
              "completed_color",
              "popup_options",
              "position",
              "primary_area_unit",
              "primary_length_unit",
              "secondary_area_unit",
              "secondary_length_unit"
            ],
            "popup_options": {
              "className": "leaflet-measure-resultpopup",
              "autoPanPadding": [
                10,
                10
              ]
            },
            "position": "bottomleft",
            "primary_area_unit": "acres",
            "primary_length_unit": "kilometers",
            "secondary_area_unit": null,
            "secondary_length_unit": null
          }
        },
        "dfc266aa41334271829ff6ce09f2a405": {
          "model_module": "jupyter-leaflet",
          "model_name": "LeafletWidgetControlModel",
          "model_module_version": "^0.18",
          "state": {
            "_model_module": "jupyter-leaflet",
            "_model_module_version": "^0.18",
            "_model_name": "LeafletWidgetControlModel",
            "_view_count": null,
            "_view_module": "jupyter-leaflet",
            "_view_module_version": "^0.18",
            "_view_name": "LeafletWidgetControlView",
            "max_height": null,
            "max_width": null,
            "min_height": null,
            "min_width": null,
            "options": [
              "position",
              "transparent_bg"
            ],
            "position": "topright",
            "transparent_bg": false,
            "widget": "IPY_MODEL_fe8ff1b05170445b8ccf7d020dc5119c"
          }
        },
        "e7d18710a1cc4f92a533a84087915d23": {
          "model_module": "jupyter-leaflet",
          "model_name": "LeafletAttributionControlModel",
          "model_module_version": "^0.18",
          "state": {
            "_model_module": "jupyter-leaflet",
            "_model_module_version": "^0.18",
            "_model_name": "LeafletAttributionControlModel",
            "_view_count": null,
            "_view_module": "jupyter-leaflet",
            "_view_module_version": "^0.18",
            "_view_name": "LeafletAttributionControlView",
            "options": [
              "position",
              "prefix"
            ],
            "position": "bottomright",
            "prefix": "ipyleaflet"
          }
        },
        "902e2e0b6e2d49c281922a10fed6998d": {
          "model_module": "jupyter-leaflet",
          "model_name": "LeafletLayersControlModel",
          "model_module_version": "^0.18",
          "state": {
            "_model_module": "jupyter-leaflet",
            "_model_module_version": "^0.18",
            "_model_name": "LeafletLayersControlModel",
            "_view_count": null,
            "_view_module": "jupyter-leaflet",
            "_view_module_version": "^0.18",
            "_view_name": "LeafletLayersControlView",
            "options": [
              "position"
            ],
            "position": "topright"
          }
        },
        "4bb3f59ca42b46f3b33c720217ba5e66": {
          "model_module": "jupyter-leaflet",
          "model_name": "LeafletMapStyleModel",
          "model_module_version": "^0.18",
          "state": {
            "_model_module": "jupyter-leaflet",
            "_model_module_version": "^0.18",
            "_model_name": "LeafletMapStyleModel",
            "_view_count": null,
            "_view_module": "@jupyter-widgets/base",
            "_view_module_version": "1.2.0",
            "_view_name": "StyleView",
            "cursor": "grab"
          }
        },
        "2c18edb07695425aa7c53fb1a67507c5": {
          "model_module": "jupyter-leaflet",
          "model_name": "LeafletMapStyleModel",
          "model_module_version": "^0.18",
          "state": {
            "_model_module": "jupyter-leaflet",
            "_model_module_version": "^0.18",
            "_model_name": "LeafletMapStyleModel",
            "_view_count": null,
            "_view_module": "@jupyter-widgets/base",
            "_view_module_version": "1.2.0",
            "_view_name": "StyleView",
            "cursor": "move"
          }
        },
        "cc8cde20c2504cb88cf5a385e893b861": {
          "model_module": "jupyter-leaflet",
          "model_name": "LeafletTileLayerModel",
          "model_module_version": "^0.18",
          "state": {
            "_model_module": "jupyter-leaflet",
            "_model_module_version": "^0.18",
            "_model_name": "LeafletTileLayerModel",
            "_view_count": null,
            "_view_module": "jupyter-leaflet",
            "_view_module_version": "^0.18",
            "_view_name": "LeafletTileLayerView",
            "attribution": "&copy; <a href=\"https://www.openstreetmap.org/copyright\">OpenStreetMap</a> contributors",
            "base": true,
            "bottom": true,
            "bounds": null,
            "detect_retina": false,
            "loading": false,
            "max_native_zoom": null,
            "max_zoom": 19,
            "min_native_zoom": null,
            "min_zoom": 1,
            "name": "OpenStreetMap.Mapnik",
            "no_wrap": false,
            "opacity": 1,
            "options": [
              "attribution",
              "bounds",
              "detect_retina",
              "max_native_zoom",
              "max_zoom",
              "min_native_zoom",
              "min_zoom",
              "no_wrap",
              "tile_size",
              "tms",
              "zoom_offset"
            ],
            "pane": "",
            "popup": null,
            "popup_max_height": null,
            "popup_max_width": 300,
            "popup_min_width": 50,
            "show_loading": false,
            "subitems": [],
            "tile_size": 256,
            "tms": false,
            "url": "https://tile.openstreetmap.org/{z}/{x}/{y}.png",
            "visible": true,
            "zoom_offset": 0
          }
        },
        "525b233c96c24ac3bcbd5af4358f994d": {
          "model_module": "jupyter-leaflet",
          "model_name": "LeafletTileLayerModel",
          "model_module_version": "^0.18",
          "state": {
            "_model_module": "jupyter-leaflet",
            "_model_module_version": "^0.18",
            "_model_name": "LeafletTileLayerModel",
            "_view_count": null,
            "_view_module": "jupyter-leaflet",
            "_view_module_version": "^0.18",
            "_view_name": "LeafletTileLayerView",
            "attribution": "Esri",
            "base": false,
            "bottom": true,
            "bounds": null,
            "detect_retina": false,
            "loading": false,
            "max_native_zoom": null,
            "max_zoom": 24,
            "min_native_zoom": null,
            "min_zoom": 0,
            "name": "Esri.WorldImagery",
            "no_wrap": false,
            "opacity": 1,
            "options": [
              "attribution",
              "bounds",
              "detect_retina",
              "max_native_zoom",
              "max_zoom",
              "min_native_zoom",
              "min_zoom",
              "no_wrap",
              "tile_size",
              "tms",
              "zoom_offset"
            ],
            "pane": "",
            "popup": null,
            "popup_max_height": null,
            "popup_max_width": 300,
            "popup_min_width": 50,
            "show_loading": false,
            "subitems": [],
            "tile_size": 256,
            "tms": false,
            "url": "https://server.arcgisonline.com/ArcGIS/rest/services/World_Imagery/MapServer/tile/{z}/{y}/{x}",
            "visible": true,
            "zoom_offset": 0
          }
        },
        "05713e973d154e06b0695ca0e666125d": {
          "model_module": "jupyter-leaflet",
          "model_name": "LeafletTileLayerModel",
          "model_module_version": "^0.18",
          "state": {
            "_model_module": "jupyter-leaflet",
            "_model_module_version": "^0.18",
            "_model_name": "LeafletTileLayerModel",
            "_view_count": null,
            "_view_module": "jupyter-leaflet",
            "_view_module_version": "^0.18",
            "_view_name": "LeafletTileLayerView",
            "attribution": "Google Earth Engine",
            "base": false,
            "bottom": true,
            "bounds": null,
            "detect_retina": false,
            "loading": false,
            "max_native_zoom": null,
            "max_zoom": 24,
            "min_native_zoom": null,
            "min_zoom": 0,
            "name": "VIIRS-DNB Dec 2019",
            "no_wrap": false,
            "opacity": 1,
            "options": [
              "attribution",
              "bounds",
              "detect_retina",
              "max_native_zoom",
              "max_zoom",
              "min_native_zoom",
              "min_zoom",
              "no_wrap",
              "tile_size",
              "tms",
              "zoom_offset"
            ],
            "pane": "",
            "popup": null,
            "popup_max_height": null,
            "popup_max_width": 300,
            "popup_min_width": 50,
            "show_loading": false,
            "subitems": [],
            "tile_size": 256,
            "tms": false,
            "url": "https://earthengine.googleapis.com/v1/projects/earthengine-legacy/maps/87a98f6cc2bbf112f66826f7a7f61e87-25c6a3be3ea32a2754454a8ecffc3eb3/tiles/{z}/{x}/{y}",
            "visible": true,
            "zoom_offset": 0
          }
        },
        "362b9385c4c24b759eeb65030d960733": {
          "model_module": "@jupyter-widgets/base",
          "model_name": "LayoutModel",
          "model_module_version": "1.2.0",
          "state": {
            "_model_module": "@jupyter-widgets/base",
            "_model_module_version": "1.2.0",
            "_model_name": "LayoutModel",
            "_view_count": null,
            "_view_module": "@jupyter-widgets/base",
            "_view_module_version": "1.2.0",
            "_view_name": "LayoutView",
            "align_content": null,
            "align_items": null,
            "align_self": null,
            "border": null,
            "bottom": null,
            "display": null,
            "flex": null,
            "flex_flow": null,
            "grid_area": null,
            "grid_auto_columns": null,
            "grid_auto_flow": null,
            "grid_auto_rows": null,
            "grid_column": null,
            "grid_gap": null,
            "grid_row": null,
            "grid_template_areas": null,
            "grid_template_columns": null,
            "grid_template_rows": null,
            "height": "600px",
            "justify_content": null,
            "justify_items": null,
            "left": null,
            "margin": null,
            "max_height": null,
            "max_width": null,
            "min_height": null,
            "min_width": null,
            "object_fit": null,
            "object_position": null,
            "order": null,
            "overflow": null,
            "overflow_x": null,
            "overflow_y": null,
            "padding": null,
            "right": null,
            "top": null,
            "visibility": null,
            "width": null
          }
        },
        "4765685671da47e0bdc5091907d501e6": {
          "model_module": "jupyter-leaflet",
          "model_name": "LeafletMapStyleModel",
          "model_module_version": "^0.18",
          "state": {
            "_model_module": "jupyter-leaflet",
            "_model_module_version": "^0.18",
            "_model_name": "LeafletMapStyleModel",
            "_view_count": null,
            "_view_module": "@jupyter-widgets/base",
            "_view_module_version": "1.2.0",
            "_view_name": "StyleView",
            "cursor": "grab"
          }
        },
        "e1162f694cfd48a283b162a2032a8430": {
          "model_module": "@jupyter-widgets/controls",
          "model_name": "HBoxModel",
          "model_module_version": "1.5.0",
          "state": {
            "_dom_classes": [
              "geemap-colab"
            ],
            "_model_module": "@jupyter-widgets/controls",
            "_model_module_version": "1.5.0",
            "_model_name": "HBoxModel",
            "_view_count": null,
            "_view_module": "@jupyter-widgets/controls",
            "_view_module_version": "1.5.0",
            "_view_name": "HBoxView",
            "box_style": "",
            "children": [
              "IPY_MODEL_209e042645cf41098d2246a8210e0e64"
            ],
            "layout": "IPY_MODEL_6713dd37f6a84cc98768a32c64c0acf1"
          }
        },
        "fe8ff1b05170445b8ccf7d020dc5119c": {
          "model_module": "@jupyter-widgets/controls",
          "model_name": "VBoxModel",
          "model_module_version": "1.5.0",
          "state": {
            "_dom_classes": [
              "geemap-colab"
            ],
            "_model_module": "@jupyter-widgets/controls",
            "_model_module_version": "1.5.0",
            "_model_name": "VBoxModel",
            "_view_count": null,
            "_view_module": "@jupyter-widgets/controls",
            "_view_module_version": "1.5.0",
            "_view_name": "VBoxView",
            "box_style": "",
            "children": [
              "IPY_MODEL_2df038312ede432f8e8d48976d97fe9b"
            ],
            "layout": "IPY_MODEL_f05ce53500854b28a67733beb3a130c9"
          }
        },
        "209e042645cf41098d2246a8210e0e64": {
          "model_module": "@jupyter-widgets/controls",
          "model_name": "ToggleButtonModel",
          "model_module_version": "1.5.0",
          "state": {
            "_dom_classes": [],
            "_model_module": "@jupyter-widgets/controls",
            "_model_module_version": "1.5.0",
            "_model_name": "ToggleButtonModel",
            "_view_count": null,
            "_view_module": "@jupyter-widgets/controls",
            "_view_module_version": "1.5.0",
            "_view_name": "ToggleButtonView",
            "button_style": "",
            "description": "",
            "description_tooltip": null,
            "disabled": false,
            "icon": "globe",
            "layout": "IPY_MODEL_09abead1f71d4384abeaa73ee9fea058",
            "style": "IPY_MODEL_76fe2dbed27648b5a406f3616e269b15",
            "tooltip": "Search location/data",
            "value": false
          }
        },
        "6713dd37f6a84cc98768a32c64c0acf1": {
          "model_module": "@jupyter-widgets/base",
          "model_name": "LayoutModel",
          "model_module_version": "1.2.0",
          "state": {
            "_model_module": "@jupyter-widgets/base",
            "_model_module_version": "1.2.0",
            "_model_name": "LayoutModel",
            "_view_count": null,
            "_view_module": "@jupyter-widgets/base",
            "_view_module_version": "1.2.0",
            "_view_name": "LayoutView",
            "align_content": null,
            "align_items": null,
            "align_self": null,
            "border": null,
            "bottom": null,
            "display": null,
            "flex": null,
            "flex_flow": null,
            "grid_area": null,
            "grid_auto_columns": null,
            "grid_auto_flow": null,
            "grid_auto_rows": null,
            "grid_column": null,
            "grid_gap": null,
            "grid_row": null,
            "grid_template_areas": null,
            "grid_template_columns": null,
            "grid_template_rows": null,
            "height": null,
            "justify_content": null,
            "justify_items": null,
            "left": null,
            "margin": null,
            "max_height": null,
            "max_width": null,
            "min_height": null,
            "min_width": null,
            "object_fit": null,
            "object_position": null,
            "order": null,
            "overflow": null,
            "overflow_x": null,
            "overflow_y": null,
            "padding": null,
            "right": null,
            "top": null,
            "visibility": null,
            "width": null
          }
        },
        "2df038312ede432f8e8d48976d97fe9b": {
          "model_module": "@jupyter-widgets/controls",
          "model_name": "ToggleButtonModel",
          "model_module_version": "1.5.0",
          "state": {
            "_dom_classes": [],
            "_model_module": "@jupyter-widgets/controls",
            "_model_module_version": "1.5.0",
            "_model_name": "ToggleButtonModel",
            "_view_count": null,
            "_view_module": "@jupyter-widgets/controls",
            "_view_module_version": "1.5.0",
            "_view_name": "ToggleButtonView",
            "button_style": "",
            "description": "",
            "description_tooltip": null,
            "disabled": false,
            "icon": "wrench",
            "layout": "IPY_MODEL_599c570d39f54711957af9db08c461a1",
            "style": "IPY_MODEL_db6d7f836b5c49c8a303dbbf87f2d4d9",
            "tooltip": "Toolbar",
            "value": false
          }
        },
        "f05ce53500854b28a67733beb3a130c9": {
          "model_module": "@jupyter-widgets/base",
          "model_name": "LayoutModel",
          "model_module_version": "1.2.0",
          "state": {
            "_model_module": "@jupyter-widgets/base",
            "_model_module_version": "1.2.0",
            "_model_name": "LayoutModel",
            "_view_count": null,
            "_view_module": "@jupyter-widgets/base",
            "_view_module_version": "1.2.0",
            "_view_name": "LayoutView",
            "align_content": null,
            "align_items": null,
            "align_self": null,
            "border": null,
            "bottom": null,
            "display": null,
            "flex": null,
            "flex_flow": null,
            "grid_area": null,
            "grid_auto_columns": null,
            "grid_auto_flow": null,
            "grid_auto_rows": null,
            "grid_column": null,
            "grid_gap": null,
            "grid_row": null,
            "grid_template_areas": null,
            "grid_template_columns": null,
            "grid_template_rows": null,
            "height": null,
            "justify_content": null,
            "justify_items": null,
            "left": null,
            "margin": null,
            "max_height": null,
            "max_width": null,
            "min_height": null,
            "min_width": null,
            "object_fit": null,
            "object_position": null,
            "order": null,
            "overflow": null,
            "overflow_x": null,
            "overflow_y": null,
            "padding": null,
            "right": null,
            "top": null,
            "visibility": null,
            "width": null
          }
        },
        "09abead1f71d4384abeaa73ee9fea058": {
          "model_module": "@jupyter-widgets/base",
          "model_name": "LayoutModel",
          "model_module_version": "1.2.0",
          "state": {
            "_model_module": "@jupyter-widgets/base",
            "_model_module_version": "1.2.0",
            "_model_name": "LayoutModel",
            "_view_count": null,
            "_view_module": "@jupyter-widgets/base",
            "_view_module_version": "1.2.0",
            "_view_name": "LayoutView",
            "align_content": null,
            "align_items": null,
            "align_self": null,
            "border": null,
            "bottom": null,
            "display": null,
            "flex": null,
            "flex_flow": null,
            "grid_area": null,
            "grid_auto_columns": null,
            "grid_auto_flow": null,
            "grid_auto_rows": null,
            "grid_column": null,
            "grid_gap": null,
            "grid_row": null,
            "grid_template_areas": null,
            "grid_template_columns": null,
            "grid_template_rows": null,
            "height": "28px",
            "justify_content": null,
            "justify_items": null,
            "left": null,
            "margin": null,
            "max_height": null,
            "max_width": null,
            "min_height": null,
            "min_width": null,
            "object_fit": null,
            "object_position": null,
            "order": null,
            "overflow": null,
            "overflow_x": null,
            "overflow_y": null,
            "padding": "0px 0px 0px 4px",
            "right": null,
            "top": null,
            "visibility": null,
            "width": "28px"
          }
        },
        "76fe2dbed27648b5a406f3616e269b15": {
          "model_module": "@jupyter-widgets/controls",
          "model_name": "DescriptionStyleModel",
          "model_module_version": "1.5.0",
          "state": {
            "_model_module": "@jupyter-widgets/controls",
            "_model_module_version": "1.5.0",
            "_model_name": "DescriptionStyleModel",
            "_view_count": null,
            "_view_module": "@jupyter-widgets/base",
            "_view_module_version": "1.2.0",
            "_view_name": "StyleView",
            "description_width": ""
          }
        },
        "599c570d39f54711957af9db08c461a1": {
          "model_module": "@jupyter-widgets/base",
          "model_name": "LayoutModel",
          "model_module_version": "1.2.0",
          "state": {
            "_model_module": "@jupyter-widgets/base",
            "_model_module_version": "1.2.0",
            "_model_name": "LayoutModel",
            "_view_count": null,
            "_view_module": "@jupyter-widgets/base",
            "_view_module_version": "1.2.0",
            "_view_name": "LayoutView",
            "align_content": null,
            "align_items": null,
            "align_self": null,
            "border": null,
            "bottom": null,
            "display": null,
            "flex": null,
            "flex_flow": null,
            "grid_area": null,
            "grid_auto_columns": null,
            "grid_auto_flow": null,
            "grid_auto_rows": null,
            "grid_column": null,
            "grid_gap": null,
            "grid_row": null,
            "grid_template_areas": null,
            "grid_template_columns": null,
            "grid_template_rows": null,
            "height": "28px",
            "justify_content": null,
            "justify_items": null,
            "left": null,
            "margin": null,
            "max_height": null,
            "max_width": null,
            "min_height": null,
            "min_width": null,
            "object_fit": null,
            "object_position": null,
            "order": null,
            "overflow": null,
            "overflow_x": null,
            "overflow_y": null,
            "padding": "0px 0px 0px 4px",
            "right": null,
            "top": null,
            "visibility": null,
            "width": "28px"
          }
        },
        "db6d7f836b5c49c8a303dbbf87f2d4d9": {
          "model_module": "@jupyter-widgets/controls",
          "model_name": "DescriptionStyleModel",
          "model_module_version": "1.5.0",
          "state": {
            "_model_module": "@jupyter-widgets/controls",
            "_model_module_version": "1.5.0",
            "_model_name": "DescriptionStyleModel",
            "_view_count": null,
            "_view_module": "@jupyter-widgets/base",
            "_view_module_version": "1.2.0",
            "_view_name": "StyleView",
            "description_width": ""
          }
        },
        "6ad4ecc7913d4c49b0830d616e3bf3db": {
          "model_module": "jupyter-leaflet",
          "model_name": "LeafletMapModel",
          "model_module_version": "^0.18",
          "state": {
            "_dom_classes": [],
            "_model_module": "jupyter-leaflet",
            "_model_module_version": "^0.18",
            "_model_name": "LeafletMapModel",
            "_view_count": null,
            "_view_module": "jupyter-leaflet",
            "_view_module_version": "^0.18",
            "_view_name": "LeafletMapView",
            "bottom": 32369,
            "bounce_at_zoom_limits": true,
            "box_zoom": true,
            "center": [
              2.1919598430779526,
              99.0557867180781
            ],
            "close_popup_on_click": true,
            "controls": [
              "IPY_MODEL_b5ff8722d1b54020a88b2e9bb16e10b0",
              "IPY_MODEL_c0398f2939c546beb5e9d6afec75d357",
              "IPY_MODEL_446c598e7efc4971b3cc4afd37e585b7",
              "IPY_MODEL_2fd5353b10d24c2f86cf5f736f742317",
              "IPY_MODEL_69a670d97a60480698012646269e29e2",
              "IPY_MODEL_fc3e5f794110477aa16782541dac2238",
              "IPY_MODEL_12602e684a88431bbeed86bae2647ec5",
              "IPY_MODEL_c950013440404106a6b1f34ebd6e0cc0",
              "IPY_MODEL_6a4bbccbe1fc412095e1ed5c54db755c"
            ],
            "crs": {
              "name": "EPSG3857",
              "custom": false
            },
            "default_style": "IPY_MODEL_350a489bb17b4874a340e2b266b3d084",
            "double_click_zoom": true,
            "dragging": true,
            "dragging_style": "IPY_MODEL_edc2c3954996467ab7a31225dbc0897d",
            "east": 99.0582275390625,
            "fullscreen": false,
            "inertia": true,
            "inertia_deceleration": 3000,
            "inertia_max_speed": 1500,
            "interpolation": "bilinear",
            "keyboard": true,
            "keyboard_pan_offset": 80,
            "keyboard_zoom_offset": 1,
            "layers": [
              "IPY_MODEL_cf4870e1a8144d08b58df5d4c3c65577",
              "IPY_MODEL_4331cb3fad9c43eda05f0ca82f534fa0",
              "IPY_MODEL_b720a8d730564596bf32558ab5d19e86"
            ],
            "layout": "IPY_MODEL_1b06f75a66ae4a059e8a73bc11a085bb",
            "left": 50801,
            "max_zoom": 24,
            "min_zoom": null,
            "modisdate": "2023-12-04",
            "north": 2.191238104506552,
            "options": [
              "bounce_at_zoom_limits",
              "box_zoom",
              "center",
              "close_popup_on_click",
              "double_click_zoom",
              "dragging",
              "fullscreen",
              "inertia",
              "inertia_deceleration",
              "inertia_max_speed",
              "interpolation",
              "keyboard",
              "keyboard_pan_offset",
              "keyboard_zoom_offset",
              "max_zoom",
              "min_zoom",
              "prefer_canvas",
              "scroll_wheel_zoom",
              "tap",
              "tap_tolerance",
              "touch_zoom",
              "world_copy_jump",
              "zoom",
              "zoom_animation_threshold",
              "zoom_delta",
              "zoom_snap"
            ],
            "panes": {},
            "prefer_canvas": false,
            "right": 50801,
            "scroll_wheel_zoom": true,
            "south": 2.191238104506552,
            "style": "IPY_MODEL_a41d87da50f8499883100c0f0db3be34",
            "tap": true,
            "tap_tolerance": 15,
            "top": 32369,
            "touch_zoom": true,
            "west": 99.0582275390625,
            "window_url": "https://qeuorri8pgq-496ff2e9c6d22116-0-colab.googleusercontent.com/outputframe.html?vrz=colab_20231130-060122_RC00_586636082",
            "world_copy_jump": false,
            "zoom": 8,
            "zoom_animation_threshold": 4,
            "zoom_delta": 1,
            "zoom_snap": 1
          }
        },
        "b5ff8722d1b54020a88b2e9bb16e10b0": {
          "model_module": "jupyter-leaflet",
          "model_name": "LeafletWidgetControlModel",
          "model_module_version": "^0.18",
          "state": {
            "_model_module": "jupyter-leaflet",
            "_model_module_version": "^0.18",
            "_model_name": "LeafletWidgetControlModel",
            "_view_count": null,
            "_view_module": "jupyter-leaflet",
            "_view_module_version": "^0.18",
            "_view_name": "LeafletWidgetControlView",
            "max_height": null,
            "max_width": null,
            "min_height": null,
            "min_width": null,
            "options": [
              "position",
              "transparent_bg"
            ],
            "position": "topleft",
            "transparent_bg": false,
            "widget": "IPY_MODEL_aac19722d4fc4b6f9ae50fd4c72c21c4"
          }
        },
        "c0398f2939c546beb5e9d6afec75d357": {
          "model_module": "jupyter-leaflet",
          "model_name": "LeafletZoomControlModel",
          "model_module_version": "^0.18",
          "state": {
            "_model_module": "jupyter-leaflet",
            "_model_module_version": "^0.18",
            "_model_name": "LeafletZoomControlModel",
            "_view_count": null,
            "_view_module": "jupyter-leaflet",
            "_view_module_version": "^0.18",
            "_view_name": "LeafletZoomControlView",
            "options": [
              "position",
              "zoom_in_text",
              "zoom_in_title",
              "zoom_out_text",
              "zoom_out_title"
            ],
            "position": "topleft",
            "zoom_in_text": "+",
            "zoom_in_title": "Zoom in",
            "zoom_out_text": "-",
            "zoom_out_title": "Zoom out"
          }
        },
        "446c598e7efc4971b3cc4afd37e585b7": {
          "model_module": "jupyter-leaflet",
          "model_name": "LeafletFullScreenControlModel",
          "model_module_version": "^0.18",
          "state": {
            "_model_module": "jupyter-leaflet",
            "_model_module_version": "^0.18",
            "_model_name": "LeafletFullScreenControlModel",
            "_view_count": null,
            "_view_module": "jupyter-leaflet",
            "_view_module_version": "^0.18",
            "_view_name": "LeafletFullScreenControlView",
            "options": [
              "position"
            ],
            "position": "topleft"
          }
        },
        "2fd5353b10d24c2f86cf5f736f742317": {
          "model_module": "jupyter-leaflet",
          "model_name": "LeafletDrawControlModel",
          "model_module_version": "^0.18",
          "state": {
            "_model_module": "jupyter-leaflet",
            "_model_module_version": "^0.18",
            "_model_name": "LeafletDrawControlModel",
            "_view_count": null,
            "_view_module": "jupyter-leaflet",
            "_view_module_version": "^0.18",
            "_view_name": "LeafletDrawControlView",
            "circle": {},
            "circlemarker": {},
            "data": [],
            "edit": true,
            "marker": {
              "shapeOptions": {
                "color": "#3388ff"
              }
            },
            "options": [
              "position"
            ],
            "polygon": {
              "shapeOptions": {}
            },
            "polyline": {
              "shapeOptions": {}
            },
            "position": "topleft",
            "rectangle": {
              "shapeOptions": {
                "color": "#3388ff"
              }
            },
            "remove": true
          }
        },
        "69a670d97a60480698012646269e29e2": {
          "model_module": "jupyter-leaflet",
          "model_name": "LeafletScaleControlModel",
          "model_module_version": "^0.18",
          "state": {
            "_model_module": "jupyter-leaflet",
            "_model_module_version": "^0.18",
            "_model_name": "LeafletScaleControlModel",
            "_view_count": null,
            "_view_module": "jupyter-leaflet",
            "_view_module_version": "^0.18",
            "_view_name": "LeafletScaleControlView",
            "imperial": true,
            "max_width": 100,
            "metric": true,
            "options": [
              "imperial",
              "max_width",
              "metric",
              "position",
              "update_when_idle"
            ],
            "position": "bottomleft",
            "update_when_idle": false
          }
        },
        "fc3e5f794110477aa16782541dac2238": {
          "model_module": "jupyter-leaflet",
          "model_name": "LeafletMeasureControlModel",
          "model_module_version": "^0.18",
          "state": {
            "_custom_units": {},
            "_model_module": "jupyter-leaflet",
            "_model_module_version": "^0.18",
            "_model_name": "LeafletMeasureControlModel",
            "_view_count": null,
            "_view_module": "jupyter-leaflet",
            "_view_module_version": "^0.18",
            "_view_name": "LeafletMeasureControlView",
            "active_color": "orange",
            "capture_z_index": 10000,
            "completed_color": "#C8F2BE",
            "options": [
              "active_color",
              "capture_z_index",
              "completed_color",
              "popup_options",
              "position",
              "primary_area_unit",
              "primary_length_unit",
              "secondary_area_unit",
              "secondary_length_unit"
            ],
            "popup_options": {
              "className": "leaflet-measure-resultpopup",
              "autoPanPadding": [
                10,
                10
              ]
            },
            "position": "bottomleft",
            "primary_area_unit": "acres",
            "primary_length_unit": "kilometers",
            "secondary_area_unit": null,
            "secondary_length_unit": null
          }
        },
        "12602e684a88431bbeed86bae2647ec5": {
          "model_module": "jupyter-leaflet",
          "model_name": "LeafletWidgetControlModel",
          "model_module_version": "^0.18",
          "state": {
            "_model_module": "jupyter-leaflet",
            "_model_module_version": "^0.18",
            "_model_name": "LeafletWidgetControlModel",
            "_view_count": null,
            "_view_module": "jupyter-leaflet",
            "_view_module_version": "^0.18",
            "_view_name": "LeafletWidgetControlView",
            "max_height": null,
            "max_width": null,
            "min_height": null,
            "min_width": null,
            "options": [
              "position",
              "transparent_bg"
            ],
            "position": "topright",
            "transparent_bg": false,
            "widget": "IPY_MODEL_c2db94c034b34a319ab9d89a81d383d9"
          }
        },
        "c950013440404106a6b1f34ebd6e0cc0": {
          "model_module": "jupyter-leaflet",
          "model_name": "LeafletAttributionControlModel",
          "model_module_version": "^0.18",
          "state": {
            "_model_module": "jupyter-leaflet",
            "_model_module_version": "^0.18",
            "_model_name": "LeafletAttributionControlModel",
            "_view_count": null,
            "_view_module": "jupyter-leaflet",
            "_view_module_version": "^0.18",
            "_view_name": "LeafletAttributionControlView",
            "options": [
              "position",
              "prefix"
            ],
            "position": "bottomright",
            "prefix": "ipyleaflet"
          }
        },
        "6a4bbccbe1fc412095e1ed5c54db755c": {
          "model_module": "jupyter-leaflet",
          "model_name": "LeafletLayersControlModel",
          "model_module_version": "^0.18",
          "state": {
            "_model_module": "jupyter-leaflet",
            "_model_module_version": "^0.18",
            "_model_name": "LeafletLayersControlModel",
            "_view_count": null,
            "_view_module": "jupyter-leaflet",
            "_view_module_version": "^0.18",
            "_view_name": "LeafletLayersControlView",
            "options": [
              "position"
            ],
            "position": "topright"
          }
        },
        "350a489bb17b4874a340e2b266b3d084": {
          "model_module": "jupyter-leaflet",
          "model_name": "LeafletMapStyleModel",
          "model_module_version": "^0.18",
          "state": {
            "_model_module": "jupyter-leaflet",
            "_model_module_version": "^0.18",
            "_model_name": "LeafletMapStyleModel",
            "_view_count": null,
            "_view_module": "@jupyter-widgets/base",
            "_view_module_version": "1.2.0",
            "_view_name": "StyleView",
            "cursor": "grab"
          }
        },
        "edc2c3954996467ab7a31225dbc0897d": {
          "model_module": "jupyter-leaflet",
          "model_name": "LeafletMapStyleModel",
          "model_module_version": "^0.18",
          "state": {
            "_model_module": "jupyter-leaflet",
            "_model_module_version": "^0.18",
            "_model_name": "LeafletMapStyleModel",
            "_view_count": null,
            "_view_module": "@jupyter-widgets/base",
            "_view_module_version": "1.2.0",
            "_view_name": "StyleView",
            "cursor": "move"
          }
        },
        "cf4870e1a8144d08b58df5d4c3c65577": {
          "model_module": "jupyter-leaflet",
          "model_name": "LeafletTileLayerModel",
          "model_module_version": "^0.18",
          "state": {
            "_model_module": "jupyter-leaflet",
            "_model_module_version": "^0.18",
            "_model_name": "LeafletTileLayerModel",
            "_view_count": null,
            "_view_module": "jupyter-leaflet",
            "_view_module_version": "^0.18",
            "_view_name": "LeafletTileLayerView",
            "attribution": "&copy; <a href=\"https://www.openstreetmap.org/copyright\">OpenStreetMap</a> contributors",
            "base": true,
            "bottom": true,
            "bounds": null,
            "detect_retina": false,
            "loading": false,
            "max_native_zoom": null,
            "max_zoom": 19,
            "min_native_zoom": null,
            "min_zoom": 1,
            "name": "OpenStreetMap.Mapnik",
            "no_wrap": false,
            "opacity": 1,
            "options": [
              "attribution",
              "bounds",
              "detect_retina",
              "max_native_zoom",
              "max_zoom",
              "min_native_zoom",
              "min_zoom",
              "no_wrap",
              "tile_size",
              "tms",
              "zoom_offset"
            ],
            "pane": "",
            "popup": null,
            "popup_max_height": null,
            "popup_max_width": 300,
            "popup_min_width": 50,
            "show_loading": false,
            "subitems": [],
            "tile_size": 256,
            "tms": false,
            "url": "https://tile.openstreetmap.org/{z}/{x}/{y}.png",
            "visible": true,
            "zoom_offset": 0
          }
        },
        "4331cb3fad9c43eda05f0ca82f534fa0": {
          "model_module": "jupyter-leaflet",
          "model_name": "LeafletTileLayerModel",
          "model_module_version": "^0.18",
          "state": {
            "_model_module": "jupyter-leaflet",
            "_model_module_version": "^0.18",
            "_model_name": "LeafletTileLayerModel",
            "_view_count": null,
            "_view_module": "jupyter-leaflet",
            "_view_module_version": "^0.18",
            "_view_name": "LeafletTileLayerView",
            "attribution": "Esri",
            "base": false,
            "bottom": true,
            "bounds": null,
            "detect_retina": false,
            "loading": false,
            "max_native_zoom": null,
            "max_zoom": 24,
            "min_native_zoom": null,
            "min_zoom": 0,
            "name": "Esri.WorldImagery",
            "no_wrap": false,
            "opacity": 1,
            "options": [
              "attribution",
              "bounds",
              "detect_retina",
              "max_native_zoom",
              "max_zoom",
              "min_native_zoom",
              "min_zoom",
              "no_wrap",
              "tile_size",
              "tms",
              "zoom_offset"
            ],
            "pane": "",
            "popup": null,
            "popup_max_height": null,
            "popup_max_width": 300,
            "popup_min_width": 50,
            "show_loading": false,
            "subitems": [],
            "tile_size": 256,
            "tms": false,
            "url": "https://server.arcgisonline.com/ArcGIS/rest/services/World_Imagery/MapServer/tile/{z}/{y}/{x}",
            "visible": true,
            "zoom_offset": 0
          }
        },
        "b720a8d730564596bf32558ab5d19e86": {
          "model_module": "jupyter-leaflet",
          "model_name": "LeafletTileLayerModel",
          "model_module_version": "^0.18",
          "state": {
            "_model_module": "jupyter-leaflet",
            "_model_module_version": "^0.18",
            "_model_name": "LeafletTileLayerModel",
            "_view_count": null,
            "_view_module": "jupyter-leaflet",
            "_view_module_version": "^0.18",
            "_view_name": "LeafletTileLayerView",
            "attribution": "Google Earth Engine",
            "base": false,
            "bottom": true,
            "bounds": null,
            "detect_retina": false,
            "loading": false,
            "max_native_zoom": null,
            "max_zoom": 24,
            "min_native_zoom": null,
            "min_zoom": 0,
            "name": "VIIRS-DNB Dec 2019",
            "no_wrap": false,
            "opacity": 1,
            "options": [
              "attribution",
              "bounds",
              "detect_retina",
              "max_native_zoom",
              "max_zoom",
              "min_native_zoom",
              "min_zoom",
              "no_wrap",
              "tile_size",
              "tms",
              "zoom_offset"
            ],
            "pane": "",
            "popup": null,
            "popup_max_height": null,
            "popup_max_width": 300,
            "popup_min_width": 50,
            "show_loading": false,
            "subitems": [],
            "tile_size": 256,
            "tms": false,
            "url": "https://earthengine.googleapis.com/v1/projects/earthengine-legacy/maps/66126dcf2eda04913c8d090cf49e516c-0beafd5cb92c46c8200eea831ea182f0/tiles/{z}/{x}/{y}",
            "visible": true,
            "zoom_offset": 0
          }
        },
        "1b06f75a66ae4a059e8a73bc11a085bb": {
          "model_module": "@jupyter-widgets/base",
          "model_name": "LayoutModel",
          "model_module_version": "1.2.0",
          "state": {
            "_model_module": "@jupyter-widgets/base",
            "_model_module_version": "1.2.0",
            "_model_name": "LayoutModel",
            "_view_count": null,
            "_view_module": "@jupyter-widgets/base",
            "_view_module_version": "1.2.0",
            "_view_name": "LayoutView",
            "align_content": null,
            "align_items": null,
            "align_self": null,
            "border": null,
            "bottom": null,
            "display": null,
            "flex": null,
            "flex_flow": null,
            "grid_area": null,
            "grid_auto_columns": null,
            "grid_auto_flow": null,
            "grid_auto_rows": null,
            "grid_column": null,
            "grid_gap": null,
            "grid_row": null,
            "grid_template_areas": null,
            "grid_template_columns": null,
            "grid_template_rows": null,
            "height": "600px",
            "justify_content": null,
            "justify_items": null,
            "left": null,
            "margin": null,
            "max_height": null,
            "max_width": null,
            "min_height": null,
            "min_width": null,
            "object_fit": null,
            "object_position": null,
            "order": null,
            "overflow": null,
            "overflow_x": null,
            "overflow_y": null,
            "padding": null,
            "right": null,
            "top": null,
            "visibility": null,
            "width": null
          }
        },
        "a41d87da50f8499883100c0f0db3be34": {
          "model_module": "jupyter-leaflet",
          "model_name": "LeafletMapStyleModel",
          "model_module_version": "^0.18",
          "state": {
            "_model_module": "jupyter-leaflet",
            "_model_module_version": "^0.18",
            "_model_name": "LeafletMapStyleModel",
            "_view_count": null,
            "_view_module": "@jupyter-widgets/base",
            "_view_module_version": "1.2.0",
            "_view_name": "StyleView",
            "cursor": "grab"
          }
        },
        "aac19722d4fc4b6f9ae50fd4c72c21c4": {
          "model_module": "@jupyter-widgets/controls",
          "model_name": "HBoxModel",
          "model_module_version": "1.5.0",
          "state": {
            "_dom_classes": [
              "geemap-colab"
            ],
            "_model_module": "@jupyter-widgets/controls",
            "_model_module_version": "1.5.0",
            "_model_name": "HBoxModel",
            "_view_count": null,
            "_view_module": "@jupyter-widgets/controls",
            "_view_module_version": "1.5.0",
            "_view_name": "HBoxView",
            "box_style": "",
            "children": [
              "IPY_MODEL_2690ab4a9e004e8d84bf1bc15e4c0e9e"
            ],
            "layout": "IPY_MODEL_a2a7fc211efc4c76a9a1f611b707c48b"
          }
        },
        "c2db94c034b34a319ab9d89a81d383d9": {
          "model_module": "@jupyter-widgets/controls",
          "model_name": "VBoxModel",
          "model_module_version": "1.5.0",
          "state": {
            "_dom_classes": [
              "geemap-colab"
            ],
            "_model_module": "@jupyter-widgets/controls",
            "_model_module_version": "1.5.0",
            "_model_name": "VBoxModel",
            "_view_count": null,
            "_view_module": "@jupyter-widgets/controls",
            "_view_module_version": "1.5.0",
            "_view_name": "VBoxView",
            "box_style": "",
            "children": [
              "IPY_MODEL_7abe3646128643049e4906945eb276ce"
            ],
            "layout": "IPY_MODEL_17ad3dabc1d44f14988a0a1c950b6729"
          }
        },
        "2690ab4a9e004e8d84bf1bc15e4c0e9e": {
          "model_module": "@jupyter-widgets/controls",
          "model_name": "ToggleButtonModel",
          "model_module_version": "1.5.0",
          "state": {
            "_dom_classes": [],
            "_model_module": "@jupyter-widgets/controls",
            "_model_module_version": "1.5.0",
            "_model_name": "ToggleButtonModel",
            "_view_count": null,
            "_view_module": "@jupyter-widgets/controls",
            "_view_module_version": "1.5.0",
            "_view_name": "ToggleButtonView",
            "button_style": "",
            "description": "",
            "description_tooltip": null,
            "disabled": false,
            "icon": "globe",
            "layout": "IPY_MODEL_4a72a35ab3cd436e91ac80e60220adc7",
            "style": "IPY_MODEL_5ce30f2445c34bc5aeb14f01ebf3a912",
            "tooltip": "Search location/data",
            "value": false
          }
        },
        "a2a7fc211efc4c76a9a1f611b707c48b": {
          "model_module": "@jupyter-widgets/base",
          "model_name": "LayoutModel",
          "model_module_version": "1.2.0",
          "state": {
            "_model_module": "@jupyter-widgets/base",
            "_model_module_version": "1.2.0",
            "_model_name": "LayoutModel",
            "_view_count": null,
            "_view_module": "@jupyter-widgets/base",
            "_view_module_version": "1.2.0",
            "_view_name": "LayoutView",
            "align_content": null,
            "align_items": null,
            "align_self": null,
            "border": null,
            "bottom": null,
            "display": null,
            "flex": null,
            "flex_flow": null,
            "grid_area": null,
            "grid_auto_columns": null,
            "grid_auto_flow": null,
            "grid_auto_rows": null,
            "grid_column": null,
            "grid_gap": null,
            "grid_row": null,
            "grid_template_areas": null,
            "grid_template_columns": null,
            "grid_template_rows": null,
            "height": null,
            "justify_content": null,
            "justify_items": null,
            "left": null,
            "margin": null,
            "max_height": null,
            "max_width": null,
            "min_height": null,
            "min_width": null,
            "object_fit": null,
            "object_position": null,
            "order": null,
            "overflow": null,
            "overflow_x": null,
            "overflow_y": null,
            "padding": null,
            "right": null,
            "top": null,
            "visibility": null,
            "width": null
          }
        },
        "7abe3646128643049e4906945eb276ce": {
          "model_module": "@jupyter-widgets/controls",
          "model_name": "ToggleButtonModel",
          "model_module_version": "1.5.0",
          "state": {
            "_dom_classes": [],
            "_model_module": "@jupyter-widgets/controls",
            "_model_module_version": "1.5.0",
            "_model_name": "ToggleButtonModel",
            "_view_count": null,
            "_view_module": "@jupyter-widgets/controls",
            "_view_module_version": "1.5.0",
            "_view_name": "ToggleButtonView",
            "button_style": "",
            "description": "",
            "description_tooltip": null,
            "disabled": false,
            "icon": "wrench",
            "layout": "IPY_MODEL_76e6223112cc4be19f1767fa6b8f15ac",
            "style": "IPY_MODEL_c383c8eb56e3421992f64335c221c1f3",
            "tooltip": "Toolbar",
            "value": false
          }
        },
        "17ad3dabc1d44f14988a0a1c950b6729": {
          "model_module": "@jupyter-widgets/base",
          "model_name": "LayoutModel",
          "model_module_version": "1.2.0",
          "state": {
            "_model_module": "@jupyter-widgets/base",
            "_model_module_version": "1.2.0",
            "_model_name": "LayoutModel",
            "_view_count": null,
            "_view_module": "@jupyter-widgets/base",
            "_view_module_version": "1.2.0",
            "_view_name": "LayoutView",
            "align_content": null,
            "align_items": null,
            "align_self": null,
            "border": null,
            "bottom": null,
            "display": null,
            "flex": null,
            "flex_flow": null,
            "grid_area": null,
            "grid_auto_columns": null,
            "grid_auto_flow": null,
            "grid_auto_rows": null,
            "grid_column": null,
            "grid_gap": null,
            "grid_row": null,
            "grid_template_areas": null,
            "grid_template_columns": null,
            "grid_template_rows": null,
            "height": null,
            "justify_content": null,
            "justify_items": null,
            "left": null,
            "margin": null,
            "max_height": null,
            "max_width": null,
            "min_height": null,
            "min_width": null,
            "object_fit": null,
            "object_position": null,
            "order": null,
            "overflow": null,
            "overflow_x": null,
            "overflow_y": null,
            "padding": null,
            "right": null,
            "top": null,
            "visibility": null,
            "width": null
          }
        },
        "4a72a35ab3cd436e91ac80e60220adc7": {
          "model_module": "@jupyter-widgets/base",
          "model_name": "LayoutModel",
          "model_module_version": "1.2.0",
          "state": {
            "_model_module": "@jupyter-widgets/base",
            "_model_module_version": "1.2.0",
            "_model_name": "LayoutModel",
            "_view_count": null,
            "_view_module": "@jupyter-widgets/base",
            "_view_module_version": "1.2.0",
            "_view_name": "LayoutView",
            "align_content": null,
            "align_items": null,
            "align_self": null,
            "border": null,
            "bottom": null,
            "display": null,
            "flex": null,
            "flex_flow": null,
            "grid_area": null,
            "grid_auto_columns": null,
            "grid_auto_flow": null,
            "grid_auto_rows": null,
            "grid_column": null,
            "grid_gap": null,
            "grid_row": null,
            "grid_template_areas": null,
            "grid_template_columns": null,
            "grid_template_rows": null,
            "height": "28px",
            "justify_content": null,
            "justify_items": null,
            "left": null,
            "margin": null,
            "max_height": null,
            "max_width": null,
            "min_height": null,
            "min_width": null,
            "object_fit": null,
            "object_position": null,
            "order": null,
            "overflow": null,
            "overflow_x": null,
            "overflow_y": null,
            "padding": "0px 0px 0px 4px",
            "right": null,
            "top": null,
            "visibility": null,
            "width": "28px"
          }
        },
        "5ce30f2445c34bc5aeb14f01ebf3a912": {
          "model_module": "@jupyter-widgets/controls",
          "model_name": "DescriptionStyleModel",
          "model_module_version": "1.5.0",
          "state": {
            "_model_module": "@jupyter-widgets/controls",
            "_model_module_version": "1.5.0",
            "_model_name": "DescriptionStyleModel",
            "_view_count": null,
            "_view_module": "@jupyter-widgets/base",
            "_view_module_version": "1.2.0",
            "_view_name": "StyleView",
            "description_width": ""
          }
        },
        "76e6223112cc4be19f1767fa6b8f15ac": {
          "model_module": "@jupyter-widgets/base",
          "model_name": "LayoutModel",
          "model_module_version": "1.2.0",
          "state": {
            "_model_module": "@jupyter-widgets/base",
            "_model_module_version": "1.2.0",
            "_model_name": "LayoutModel",
            "_view_count": null,
            "_view_module": "@jupyter-widgets/base",
            "_view_module_version": "1.2.0",
            "_view_name": "LayoutView",
            "align_content": null,
            "align_items": null,
            "align_self": null,
            "border": null,
            "bottom": null,
            "display": null,
            "flex": null,
            "flex_flow": null,
            "grid_area": null,
            "grid_auto_columns": null,
            "grid_auto_flow": null,
            "grid_auto_rows": null,
            "grid_column": null,
            "grid_gap": null,
            "grid_row": null,
            "grid_template_areas": null,
            "grid_template_columns": null,
            "grid_template_rows": null,
            "height": "28px",
            "justify_content": null,
            "justify_items": null,
            "left": null,
            "margin": null,
            "max_height": null,
            "max_width": null,
            "min_height": null,
            "min_width": null,
            "object_fit": null,
            "object_position": null,
            "order": null,
            "overflow": null,
            "overflow_x": null,
            "overflow_y": null,
            "padding": "0px 0px 0px 4px",
            "right": null,
            "top": null,
            "visibility": null,
            "width": "28px"
          }
        },
        "c383c8eb56e3421992f64335c221c1f3": {
          "model_module": "@jupyter-widgets/controls",
          "model_name": "DescriptionStyleModel",
          "model_module_version": "1.5.0",
          "state": {
            "_model_module": "@jupyter-widgets/controls",
            "_model_module_version": "1.5.0",
            "_model_name": "DescriptionStyleModel",
            "_view_count": null,
            "_view_module": "@jupyter-widgets/base",
            "_view_module_version": "1.2.0",
            "_view_name": "StyleView",
            "description_width": ""
          }
        }
      }
    }
  },
  "cells": [
    {
      "cell_type": "markdown",
      "metadata": {
        "id": "view-in-github",
        "colab_type": "text"
      },
      "source": [
        "<a href=\"https://colab.research.google.com/github/PrazaKembaren/AnDaSat-Tugas-1/blob/main/%5BAK3031%5D_Analisis_Data_Satelit_Mengolah_Data_Kecerlangan_Langit_dengan_GEE.ipynb\" target=\"_parent\"><img src=\"https://colab.research.google.com/assets/colab-badge.svg\" alt=\"Open In Colab\"/></a>"
      ]
    },
    {
      "cell_type": "markdown",
      "source": [
        "#Tugas Mengolah Data Kecerlangan Langit dengan GEE\n"
      ],
      "metadata": {
        "id": "gu2IhmRvrZsI"
      }
    },
    {
      "cell_type": "markdown",
      "metadata": {
        "id": "NcBIMqLtpvVF"
      },
      "source": [
        "Dari https://colab.research.google.com/github/NLTGit/OpenNightLights-colab-mirror/blob/master/onl/tutorials/mod3_2_image_clipping_with_VIIRS.ipynb\n",
        "\n",
        "\n",
        "Di sini kita akan berlatih menggunakan GEE untuk mendapat data kecerlangan langit untuk provinsi di Indonesia.\n",
        "\n",
        "Masing-masing orang silakan pilih provinsi di\n",
        "GAUL (Global Administrative Unit Layers Level 1)\n",
        "\n",
        "https://data.apps.fao.org/catalog/dataset/global-administrative-unit-layers-gaul/resource/ebf408a0-fa81-4fdf-9c51-ced6737db0fe\n",
        "\n",
        "\n",
        "Dan tulis di sini\n",
        "https://docs.google.com/spreadsheets/d/1g76HZHQWEp_u3Yyo0LaDPQjEJlS61s5lGOV9L74_Fe0/edit?usp=sharing\n",
        "\n",
        "Karena di GAUL hanya ada provinsi lama, yang memilih provinsi baru, silakan mengganti menjadi negara tetangga Indonesia seperti Timor Leste, Singapura, atau Malaysia.\n",
        "\n",
        "Pada latihan ini:\n",
        "- mengambil data VIIRS komposit, klip ke geometri. Hitung rata-rata dan standar deviasi nilai VIIRS komposit\n",
        "\n",
        "- Cari data statistik dari BPS untuk setiap provinsi\n",
        "\n",
        "- Buat grafik sederhana\n",
        "\n",
        "\n",
        "Pertama, install GEE (Google Earth Engine)"
      ]
    },
    {
      "cell_type": "markdown",
      "source": [
        "##Pra-proses Pengolahan Data"
      ],
      "metadata": {
        "id": "pPBnrSHH8nQH"
      }
    },
    {
      "cell_type": "code",
      "metadata": {
        "id": "r3SjoEGUpvVS"
      },
      "source": [
        "!pip install geemap #install modul"
      ],
      "execution_count": null,
      "outputs": []
    },
    {
      "cell_type": "code",
      "metadata": {
        "id": "qlP629bApvVT",
        "colab": {
          "base_uri": "https://localhost:8080/"
        },
        "outputId": "11754108-52d8-435b-f522-e8e6d971a5d8"
      },
      "source": [
        "# import GEEmaP\n",
        "import geemap, ee\n",
        "import numpy as np\n",
        "from matplotlib import dates as mdates\n",
        "import pandas as pd\n",
        "import matplotlib.dates as md\n",
        "import matplotlib.pyplot as plt\n",
        "\n",
        "try:\n",
        "        ee.Initialize()\n",
        "except Exception as e:\n",
        "        ee.Authenticate()\n",
        "        ee.Initialize()\n",
        "\n",
        "#inisialisasi token GEE"
      ],
      "execution_count": null,
      "outputs": [
        {
          "output_type": "display_data",
          "data": {
            "text/plain": [
              "<IPython.core.display.HTML object>"
            ],
            "text/html": [
              "\n",
              "            <style>\n",
              "                .geemap-dark {\n",
              "                    --jp-widgets-color: white;\n",
              "                    --jp-widgets-label-color: white;\n",
              "                    --jp-ui-font-color1: white;\n",
              "                    --jp-layout-color2: #454545;\n",
              "                    background-color: #383838;\n",
              "                }\n",
              "                    \n",
              "                .geemap-dark .jupyter-button {\n",
              "                    --jp-layout-color3: #383838;\n",
              "                }\n",
              "                \n",
              "                .geemap-colab {\n",
              "                    background-color: var(--colab-primary-surface-color, white);\n",
              "                }\n",
              "                    \n",
              "                .geemap-colab .jupyter-button {\n",
              "                    --jp-layout-color3: var(--colab-primary-surface-color, white);\n",
              "                }\n",
              "            </style>\n",
              "            "
            ]
          },
          "metadata": {}
        }
      ]
    },
    {
      "cell_type": "markdown",
      "source": [
        "##Get Data"
      ],
      "metadata": {
        "id": "GfVrzj8d826H"
      }
    },
    {
      "cell_type": "markdown",
      "source": [
        "Cari data VIIRS radiasi rerata VIIRS bulanan (misal Desember 2019)"
      ],
      "metadata": {
        "id": "ilf0s_zdeXww"
      }
    },
    {
      "cell_type": "markdown",
      "source": [
        "###Data"
      ],
      "metadata": {
        "id": "_NWRrh1r87FT"
      }
    },
    {
      "cell_type": "code",
      "source": [
        "# get December image, we're using the \"avg_rad\" band\n",
        "viirs2019_12 = ee.ImageCollection(\"NOAA/VIIRS/DNB/MONTHLY_V1/VCMSLCFG\").filterDate(\"2019-12-01\",\"2019-12-31\").select('avg_rad').median()"
      ],
      "metadata": {
        "colab": {
          "base_uri": "https://localhost:8080/"
        },
        "id": "_mcWfQeDeVxY",
        "outputId": "55e3c35d-b1a9-448e-a6b1-7e75205e0723"
      },
      "execution_count": null,
      "outputs": [
        {
          "output_type": "display_data",
          "data": {
            "text/plain": [
              "<IPython.core.display.HTML object>"
            ],
            "text/html": [
              "\n",
              "            <style>\n",
              "                .geemap-dark {\n",
              "                    --jp-widgets-color: white;\n",
              "                    --jp-widgets-label-color: white;\n",
              "                    --jp-ui-font-color1: white;\n",
              "                    --jp-layout-color2: #454545;\n",
              "                    background-color: #383838;\n",
              "                }\n",
              "                    \n",
              "                .geemap-dark .jupyter-button {\n",
              "                    --jp-layout-color3: #383838;\n",
              "                }\n",
              "                \n",
              "                .geemap-colab {\n",
              "                    background-color: var(--colab-primary-surface-color, white);\n",
              "                }\n",
              "                    \n",
              "                .geemap-colab .jupyter-button {\n",
              "                    --jp-layout-color3: var(--colab-primary-surface-color, white);\n",
              "                }\n",
              "            </style>\n",
              "            "
            ]
          },
          "metadata": {}
        }
      ]
    },
    {
      "cell_type": "markdown",
      "source": [
        "###Mapping"
      ],
      "metadata": {
        "id": "Ok2635k1enrW"
      }
    },
    {
      "cell_type": "code",
      "source": [
        "# inisialisasi peta\n",
        "map1 = geemap.Map()\n",
        "map1.add_basemap('SATELLITE')\n",
        "map1.addLayer(viirs2019_12, {}, \"VIIRS-DNB Dec 2019\")\n",
        "\n",
        "map1.addLayerControl()\n",
        "map1"
      ],
      "metadata": {
        "colab": {
          "base_uri": "https://localhost:8080/",
          "referenced_widgets": [
            "c7810415a4af43dd9651be29b43df1ba",
            "862ea03b835b4d35935152b65c28cbdd",
            "8e2c58fdce924a1a8817a6b56020199c",
            "705ceca171424a24b9afc8ee98de3f30",
            "9334bb5ed5ba4086905c54ccd9d60448",
            "51a516af409045b6b238f19d30f4984b",
            "253fc3f2084e4719ba2e74a39207ce03",
            "dfc266aa41334271829ff6ce09f2a405",
            "e7d18710a1cc4f92a533a84087915d23",
            "902e2e0b6e2d49c281922a10fed6998d",
            "4bb3f59ca42b46f3b33c720217ba5e66",
            "2c18edb07695425aa7c53fb1a67507c5",
            "cc8cde20c2504cb88cf5a385e893b861",
            "525b233c96c24ac3bcbd5af4358f994d",
            "05713e973d154e06b0695ca0e666125d",
            "362b9385c4c24b759eeb65030d960733",
            "4765685671da47e0bdc5091907d501e6",
            "e1162f694cfd48a283b162a2032a8430",
            "fe8ff1b05170445b8ccf7d020dc5119c",
            "209e042645cf41098d2246a8210e0e64",
            "6713dd37f6a84cc98768a32c64c0acf1",
            "2df038312ede432f8e8d48976d97fe9b",
            "f05ce53500854b28a67733beb3a130c9",
            "09abead1f71d4384abeaa73ee9fea058",
            "76fe2dbed27648b5a406f3616e269b15",
            "599c570d39f54711957af9db08c461a1",
            "db6d7f836b5c49c8a303dbbf87f2d4d9"
          ]
        },
        "id": "h4H5eqaUelpD",
        "outputId": "b0e5356e-a516-4484-f609-4f160f0cf9b1"
      },
      "execution_count": null,
      "outputs": [
        {
          "output_type": "display_data",
          "data": {
            "text/plain": [
              "<IPython.core.display.HTML object>"
            ],
            "text/html": [
              "\n",
              "            <style>\n",
              "                .geemap-dark {\n",
              "                    --jp-widgets-color: white;\n",
              "                    --jp-widgets-label-color: white;\n",
              "                    --jp-ui-font-color1: white;\n",
              "                    --jp-layout-color2: #454545;\n",
              "                    background-color: #383838;\n",
              "                }\n",
              "                    \n",
              "                .geemap-dark .jupyter-button {\n",
              "                    --jp-layout-color3: #383838;\n",
              "                }\n",
              "                \n",
              "                .geemap-colab {\n",
              "                    background-color: var(--colab-primary-surface-color, white);\n",
              "                }\n",
              "                    \n",
              "                .geemap-colab .jupyter-button {\n",
              "                    --jp-layout-color3: var(--colab-primary-surface-color, white);\n",
              "                }\n",
              "            </style>\n",
              "            "
            ]
          },
          "metadata": {}
        },
        {
          "output_type": "display_data",
          "data": {
            "text/plain": [
              "Map(center=[0, 0], controls=(WidgetControl(options=['position', 'transparent_bg'], widget=SearchDataGUI(childr…"
            ],
            "application/vnd.jupyter.widget-view+json": {
              "version_major": 2,
              "version_minor": 0,
              "model_id": "c7810415a4af43dd9651be29b43df1ba"
            }
          },
          "metadata": {
            "application/vnd.jupyter.widget-view+json": {
              "colab": {
                "custom_widget_manager": {
                  "url": "https://ssl.gstatic.com/colaboratory-static/widgets/colab-cdn-widget-manager/b3e629b1971e1542/manager.min.js"
                }
              }
            }
          }
        }
      ]
    },
    {
      "cell_type": "markdown",
      "source": [
        "## Lakukan clipping Untuk Provinsi Sumatra Utara\n",
        "\n",
        "Buat AOI (Area of Interest) dengan `ee.Geometry.Point` , masukkan provinsi"
      ],
      "metadata": {
        "id": "qYas3zCcf2hy"
      }
    },
    {
      "cell_type": "code",
      "source": [
        "viirs2017_121 = ee.ImageCollection(\"NOAA/VIIRS/DNB/MONTHLY_V1/VCMSLCFG\").filterDate(\"2019-12-01\",\"2019-12-31\").select('avg_rad').first()\n",
        "\n",
        "# Cari geometri provinsi Sumatra Utara\n",
        "peta1 = ee.Feature(ee.FeatureCollection(\"FAO/GAUL/2015/level1\").filter(ee.Filter.eq('ADM1_NAME', 'Sumatera Utara')).first()).geometry()\n",
        "\n",
        "# clip\n",
        "petaclip1 = viirs2017_121.clip(peta1)\n",
        "\n",
        "\n",
        "# Buat peta\n",
        "map1 = geemap.Map()\n",
        "map1.centerObject(peta1, zoom=8)\n",
        "map1.add_basemap('SATELLITE')\n",
        "map1.addLayer(petaclip1, {}, \"VIIRS-DNB Dec 2019\")\n",
        "map1.addLayerControl()\n",
        "map1"
      ],
      "metadata": {
        "colab": {
          "base_uri": "https://localhost:8080/",
          "referenced_widgets": [
            "6ad4ecc7913d4c49b0830d616e3bf3db",
            "b5ff8722d1b54020a88b2e9bb16e10b0",
            "c0398f2939c546beb5e9d6afec75d357",
            "446c598e7efc4971b3cc4afd37e585b7",
            "2fd5353b10d24c2f86cf5f736f742317",
            "69a670d97a60480698012646269e29e2",
            "fc3e5f794110477aa16782541dac2238",
            "12602e684a88431bbeed86bae2647ec5",
            "c950013440404106a6b1f34ebd6e0cc0",
            "6a4bbccbe1fc412095e1ed5c54db755c",
            "350a489bb17b4874a340e2b266b3d084",
            "edc2c3954996467ab7a31225dbc0897d",
            "cf4870e1a8144d08b58df5d4c3c65577",
            "4331cb3fad9c43eda05f0ca82f534fa0",
            "b720a8d730564596bf32558ab5d19e86",
            "1b06f75a66ae4a059e8a73bc11a085bb",
            "a41d87da50f8499883100c0f0db3be34",
            "aac19722d4fc4b6f9ae50fd4c72c21c4",
            "c2db94c034b34a319ab9d89a81d383d9",
            "2690ab4a9e004e8d84bf1bc15e4c0e9e",
            "a2a7fc211efc4c76a9a1f611b707c48b",
            "7abe3646128643049e4906945eb276ce",
            "17ad3dabc1d44f14988a0a1c950b6729",
            "4a72a35ab3cd436e91ac80e60220adc7",
            "5ce30f2445c34bc5aeb14f01ebf3a912",
            "76e6223112cc4be19f1767fa6b8f15ac",
            "c383c8eb56e3421992f64335c221c1f3"
          ]
        },
        "id": "ElO1gQKafw5V",
        "outputId": "f7695e5e-b237-4f31-8c51-6542042250ac"
      },
      "execution_count": null,
      "outputs": [
        {
          "output_type": "display_data",
          "data": {
            "text/plain": [
              "<IPython.core.display.HTML object>"
            ],
            "text/html": [
              "\n",
              "            <style>\n",
              "                .geemap-dark {\n",
              "                    --jp-widgets-color: white;\n",
              "                    --jp-widgets-label-color: white;\n",
              "                    --jp-ui-font-color1: white;\n",
              "                    --jp-layout-color2: #454545;\n",
              "                    background-color: #383838;\n",
              "                }\n",
              "                    \n",
              "                .geemap-dark .jupyter-button {\n",
              "                    --jp-layout-color3: #383838;\n",
              "                }\n",
              "                \n",
              "                .geemap-colab {\n",
              "                    background-color: var(--colab-primary-surface-color, white);\n",
              "                }\n",
              "                    \n",
              "                .geemap-colab .jupyter-button {\n",
              "                    --jp-layout-color3: var(--colab-primary-surface-color, white);\n",
              "                }\n",
              "            </style>\n",
              "            "
            ]
          },
          "metadata": {}
        },
        {
          "output_type": "display_data",
          "data": {
            "text/plain": [
              "Map(center=[2.1919598430779526, 99.0557867180781], controls=(WidgetControl(options=['position', 'transparent_b…"
            ],
            "application/vnd.jupyter.widget-view+json": {
              "version_major": 2,
              "version_minor": 0,
              "model_id": "6ad4ecc7913d4c49b0830d616e3bf3db"
            }
          },
          "metadata": {
            "application/vnd.jupyter.widget-view+json": {
              "colab": {
                "custom_widget_manager": {
                  "url": "https://ssl.gstatic.com/colaboratory-static/widgets/colab-cdn-widget-manager/b3e629b1971e1542/manager.min.js"
                }
              }
            }
          }
        }
      ]
    },
    {
      "cell_type": "code",
      "source": [
        "#geemap.ee_export_image(petaclip1, filename='sumut.tif', scale=10, region=peta1, file_per_band=True)"
      ],
      "metadata": {
        "colab": {
          "base_uri": "https://localhost:8080/"
        },
        "id": "1Xupuc8X62AP",
        "outputId": "9ba7ef83-400b-4395-e02f-8c2ac8a132ea"
      },
      "execution_count": null,
      "outputs": [
        {
          "output_type": "display_data",
          "data": {
            "text/plain": [
              "<IPython.core.display.HTML object>"
            ],
            "text/html": [
              "\n",
              "            <style>\n",
              "                .geemap-dark {\n",
              "                    --jp-widgets-color: white;\n",
              "                    --jp-widgets-label-color: white;\n",
              "                    --jp-ui-font-color1: white;\n",
              "                    --jp-layout-color2: #454545;\n",
              "                    background-color: #383838;\n",
              "                }\n",
              "                    \n",
              "                .geemap-dark .jupyter-button {\n",
              "                    --jp-layout-color3: #383838;\n",
              "                }\n",
              "                \n",
              "                .geemap-colab {\n",
              "                    background-color: var(--colab-primary-surface-color, white);\n",
              "                }\n",
              "                    \n",
              "                .geemap-colab .jupyter-button {\n",
              "                    --jp-layout-color3: var(--colab-primary-surface-color, white);\n",
              "                }\n",
              "            </style>\n",
              "            "
            ]
          },
          "metadata": {}
        }
      ]
    },
    {
      "cell_type": "markdown",
      "source": [
        "###Inisialisasi Interval range bulanan untuk pengambilan data"
      ],
      "metadata": {
        "id": "pdjWUAiO9MiA"
      }
    },
    {
      "cell_type": "code",
      "source": [
        "name = '/content/tgl.txt'\n",
        "data = open(name, 'r')\n",
        "#tgl = pd.DataFrame(data)\n",
        "dataload = data.readlines()\n",
        "data.close()"
      ],
      "metadata": {
        "colab": {
          "base_uri": "https://localhost:8080/"
        },
        "id": "OUZ1wg-qL6Dr",
        "outputId": "4a288154-0f56-4ae1-8508-4878167ad96e"
      },
      "execution_count": null,
      "outputs": [
        {
          "output_type": "display_data",
          "data": {
            "text/plain": [
              "<IPython.core.display.HTML object>"
            ],
            "text/html": [
              "\n",
              "            <style>\n",
              "                .geemap-dark {\n",
              "                    --jp-widgets-color: white;\n",
              "                    --jp-widgets-label-color: white;\n",
              "                    --jp-ui-font-color1: white;\n",
              "                    --jp-layout-color2: #454545;\n",
              "                    background-color: #383838;\n",
              "                }\n",
              "                    \n",
              "                .geemap-dark .jupyter-button {\n",
              "                    --jp-layout-color3: #383838;\n",
              "                }\n",
              "                \n",
              "                .geemap-colab {\n",
              "                    background-color: var(--colab-primary-surface-color, white);\n",
              "                }\n",
              "                    \n",
              "                .geemap-colab .jupyter-button {\n",
              "                    --jp-layout-color3: var(--colab-primary-surface-color, white);\n",
              "                }\n",
              "            </style>\n",
              "            "
            ]
          },
          "metadata": {}
        }
      ]
    },
    {
      "cell_type": "markdown",
      "source": [
        "###Pengambilan data untuk setiap range bulanan yang telah didefinisikan"
      ],
      "metadata": {
        "id": "-iBR-GjB9cnC"
      }
    },
    {
      "cell_type": "code",
      "source": [
        "value = []\n",
        "\n",
        "for line in dataload:\n",
        "  newline = line.replace(\"\\n\", \"\")\n",
        "  listline = newline.split(\";\")\n",
        "  viirs2019_12 = ee.ImageCollection(\"NOAA/VIIRS/DNB/MONTHLY_V1/VCMSLCFG\").filterDate(listline[0],listline[1]).select('avg_rad').first()\n",
        "\n",
        "# Cari geometri provinsi\n",
        "  peta = ee.Feature(ee.FeatureCollection(\"FAO/GAUL/2015/level1\").filter(ee.Filter.eq('ADM1_NAME', 'Sumatera Utara')).first()).geometry()\n",
        "\n",
        "  petaclip = viirs2019_12.clip(peta)\n",
        "\n",
        "  mu = petaclip.reduceRegion(reducer=ee.Reducer.mean(), scale=500)\n",
        "\n",
        "  munumber = ee.Number(mu.get('avg_rad'))\n",
        "\n",
        "  value.append(munumber)\n",
        "\n",
        "\n"
      ],
      "metadata": {
        "colab": {
          "base_uri": "https://localhost:8080/"
        },
        "id": "XiHmeVpm-qCy",
        "outputId": "e78fcd33-ae58-4dad-cd46-143c12406adc"
      },
      "execution_count": null,
      "outputs": [
        {
          "output_type": "display_data",
          "data": {
            "text/plain": [
              "<IPython.core.display.HTML object>"
            ],
            "text/html": [
              "\n",
              "            <style>\n",
              "                .geemap-dark {\n",
              "                    --jp-widgets-color: white;\n",
              "                    --jp-widgets-label-color: white;\n",
              "                    --jp-ui-font-color1: white;\n",
              "                    --jp-layout-color2: #454545;\n",
              "                    background-color: #383838;\n",
              "                }\n",
              "                    \n",
              "                .geemap-dark .jupyter-button {\n",
              "                    --jp-layout-color3: #383838;\n",
              "                }\n",
              "                \n",
              "                .geemap-colab {\n",
              "                    background-color: var(--colab-primary-surface-color, white);\n",
              "                }\n",
              "                    \n",
              "                .geemap-colab .jupyter-button {\n",
              "                    --jp-layout-color3: var(--colab-primary-surface-color, white);\n",
              "                }\n",
              "            </style>\n",
              "            "
            ]
          },
          "metadata": {}
        }
      ]
    },
    {
      "cell_type": "markdown",
      "source": [
        "###Append data"
      ],
      "metadata": {
        "id": "uJapuYdN9jCx"
      }
    },
    {
      "cell_type": "code",
      "source": [
        "data = []\n",
        "for k in value:\n",
        "  v = ee.Number(k).getInfo()\n",
        "  data.append(v)"
      ],
      "metadata": {
        "colab": {
          "base_uri": "https://localhost:8080/"
        },
        "id": "CLVc3yJyIBvO",
        "outputId": "b10316a1-c3f8-49e2-83cf-86f21492630a"
      },
      "execution_count": null,
      "outputs": [
        {
          "output_type": "display_data",
          "data": {
            "text/plain": [
              "<IPython.core.display.HTML object>"
            ],
            "text/html": [
              "\n",
              "            <style>\n",
              "                .geemap-dark {\n",
              "                    --jp-widgets-color: white;\n",
              "                    --jp-widgets-label-color: white;\n",
              "                    --jp-ui-font-color1: white;\n",
              "                    --jp-layout-color2: #454545;\n",
              "                    background-color: #383838;\n",
              "                }\n",
              "                    \n",
              "                .geemap-dark .jupyter-button {\n",
              "                    --jp-layout-color3: #383838;\n",
              "                }\n",
              "                \n",
              "                .geemap-colab {\n",
              "                    background-color: var(--colab-primary-surface-color, white);\n",
              "                }\n",
              "                    \n",
              "                .geemap-colab .jupyter-button {\n",
              "                    --jp-layout-color3: var(--colab-primary-surface-color, white);\n",
              "                }\n",
              "            </style>\n",
              "            "
            ]
          },
          "metadata": {}
        }
      ]
    },
    {
      "cell_type": "code",
      "source": [
        "month = '/content/tgl.txt'\n",
        "month = open(month, 'r')\n",
        "mn = []\n",
        "for line in dataload:\n",
        "  newline = line.replace(\"\\n\", \"\")\n",
        "  listline = newline.split(\";\")\n",
        "  month = listline[0]\n",
        "  mn.append(month)                     #query data pada satu kolom (untuk keperluan plotting)\n",
        "month = pd.DataFrame(mn)"
      ],
      "metadata": {
        "colab": {
          "base_uri": "https://localhost:8080/"
        },
        "id": "I13F8FPfHyS3",
        "outputId": "24e3d8a6-25af-443e-afc9-767994a4874b"
      },
      "execution_count": null,
      "outputs": [
        {
          "output_type": "display_data",
          "data": {
            "text/plain": [
              "<IPython.core.display.HTML object>"
            ],
            "text/html": [
              "\n",
              "            <style>\n",
              "                .geemap-dark {\n",
              "                    --jp-widgets-color: white;\n",
              "                    --jp-widgets-label-color: white;\n",
              "                    --jp-ui-font-color1: white;\n",
              "                    --jp-layout-color2: #454545;\n",
              "                    background-color: #383838;\n",
              "                }\n",
              "                    \n",
              "                .geemap-dark .jupyter-button {\n",
              "                    --jp-layout-color3: #383838;\n",
              "                }\n",
              "                \n",
              "                .geemap-colab {\n",
              "                    background-color: var(--colab-primary-surface-color, white);\n",
              "                }\n",
              "                    \n",
              "                .geemap-colab .jupyter-button {\n",
              "                    --jp-layout-color3: var(--colab-primary-surface-color, white);\n",
              "                }\n",
              "            </style>\n",
              "            "
            ]
          },
          "metadata": {}
        }
      ]
    },
    {
      "cell_type": "code",
      "source": [
        "data = pd.DataFrame(data)\n",
        "data[\"F\"] = data[0]\n",
        "data[\"month\"] = month[0]\n",
        "data = data[[\"F\", 'month']]"
      ],
      "metadata": {
        "colab": {
          "base_uri": "https://localhost:8080/"
        },
        "id": "YUjSUluXCTE0",
        "outputId": "72d36c7f-a030-4190-bc91-22399580634e"
      },
      "execution_count": null,
      "outputs": [
        {
          "output_type": "display_data",
          "data": {
            "text/plain": [
              "<IPython.core.display.HTML object>"
            ],
            "text/html": [
              "\n",
              "            <style>\n",
              "                .geemap-dark {\n",
              "                    --jp-widgets-color: white;\n",
              "                    --jp-widgets-label-color: white;\n",
              "                    --jp-ui-font-color1: white;\n",
              "                    --jp-layout-color2: #454545;\n",
              "                    background-color: #383838;\n",
              "                }\n",
              "                    \n",
              "                .geemap-dark .jupyter-button {\n",
              "                    --jp-layout-color3: #383838;\n",
              "                }\n",
              "                \n",
              "                .geemap-colab {\n",
              "                    background-color: var(--colab-primary-surface-color, white);\n",
              "                }\n",
              "                    \n",
              "                .geemap-colab .jupyter-button {\n",
              "                    --jp-layout-color3: var(--colab-primary-surface-color, white);\n",
              "                }\n",
              "            </style>\n",
              "            "
            ]
          },
          "metadata": {}
        }
      ]
    },
    {
      "cell_type": "code",
      "source": [
        "data"
      ],
      "metadata": {
        "colab": {
          "base_uri": "https://localhost:8080/"
        },
        "id": "szHi6axK-1qj",
        "outputId": "ba9f354c-0073-4b65-e693-ceb99cdb7ef9"
      },
      "execution_count": null,
      "outputs": [
        {
          "output_type": "display_data",
          "data": {
            "text/plain": [
              "<IPython.core.display.HTML object>"
            ],
            "text/html": [
              "\n",
              "            <style>\n",
              "                .geemap-dark {\n",
              "                    --jp-widgets-color: white;\n",
              "                    --jp-widgets-label-color: white;\n",
              "                    --jp-ui-font-color1: white;\n",
              "                    --jp-layout-color2: #454545;\n",
              "                    background-color: #383838;\n",
              "                }\n",
              "                    \n",
              "                .geemap-dark .jupyter-button {\n",
              "                    --jp-layout-color3: #383838;\n",
              "                }\n",
              "                \n",
              "                .geemap-colab {\n",
              "                    background-color: var(--colab-primary-surface-color, white);\n",
              "                }\n",
              "                    \n",
              "                .geemap-colab .jupyter-button {\n",
              "                    --jp-layout-color3: var(--colab-primary-surface-color, white);\n",
              "                }\n",
              "            </style>\n",
              "            "
            ]
          },
          "metadata": {}
        },
        {
          "output_type": "execute_result",
          "data": {
            "text/plain": [
              "           F       month\n",
              "0   0.237962  2014-01-01\n",
              "1   0.276092  2014-02-01\n",
              "2   0.372926  2014-03-01\n",
              "3   0.334248  2014-04-01\n",
              "4   0.202870  2014-05-01\n",
              "..       ...         ...\n",
              "79  0.630321  2020-08-01\n",
              "80  0.197042  2020-09-01\n",
              "81  0.130088  2020-10-01\n",
              "82  0.077266  2020-11-01\n",
              "83  0.162939  2020-12-01\n",
              "\n",
              "[84 rows x 2 columns]"
            ],
            "text/html": [
              "\n",
              "  <div id=\"df-b428617d-0315-4ee3-a187-130991d68fb5\" class=\"colab-df-container\">\n",
              "    <div>\n",
              "<style scoped>\n",
              "    .dataframe tbody tr th:only-of-type {\n",
              "        vertical-align: middle;\n",
              "    }\n",
              "\n",
              "    .dataframe tbody tr th {\n",
              "        vertical-align: top;\n",
              "    }\n",
              "\n",
              "    .dataframe thead th {\n",
              "        text-align: right;\n",
              "    }\n",
              "</style>\n",
              "<table border=\"1\" class=\"dataframe\">\n",
              "  <thead>\n",
              "    <tr style=\"text-align: right;\">\n",
              "      <th></th>\n",
              "      <th>F</th>\n",
              "      <th>month</th>\n",
              "    </tr>\n",
              "  </thead>\n",
              "  <tbody>\n",
              "    <tr>\n",
              "      <th>0</th>\n",
              "      <td>0.237962</td>\n",
              "      <td>2014-01-01</td>\n",
              "    </tr>\n",
              "    <tr>\n",
              "      <th>1</th>\n",
              "      <td>0.276092</td>\n",
              "      <td>2014-02-01</td>\n",
              "    </tr>\n",
              "    <tr>\n",
              "      <th>2</th>\n",
              "      <td>0.372926</td>\n",
              "      <td>2014-03-01</td>\n",
              "    </tr>\n",
              "    <tr>\n",
              "      <th>3</th>\n",
              "      <td>0.334248</td>\n",
              "      <td>2014-04-01</td>\n",
              "    </tr>\n",
              "    <tr>\n",
              "      <th>4</th>\n",
              "      <td>0.202870</td>\n",
              "      <td>2014-05-01</td>\n",
              "    </tr>\n",
              "    <tr>\n",
              "      <th>...</th>\n",
              "      <td>...</td>\n",
              "      <td>...</td>\n",
              "    </tr>\n",
              "    <tr>\n",
              "      <th>79</th>\n",
              "      <td>0.630321</td>\n",
              "      <td>2020-08-01</td>\n",
              "    </tr>\n",
              "    <tr>\n",
              "      <th>80</th>\n",
              "      <td>0.197042</td>\n",
              "      <td>2020-09-01</td>\n",
              "    </tr>\n",
              "    <tr>\n",
              "      <th>81</th>\n",
              "      <td>0.130088</td>\n",
              "      <td>2020-10-01</td>\n",
              "    </tr>\n",
              "    <tr>\n",
              "      <th>82</th>\n",
              "      <td>0.077266</td>\n",
              "      <td>2020-11-01</td>\n",
              "    </tr>\n",
              "    <tr>\n",
              "      <th>83</th>\n",
              "      <td>0.162939</td>\n",
              "      <td>2020-12-01</td>\n",
              "    </tr>\n",
              "  </tbody>\n",
              "</table>\n",
              "<p>84 rows × 2 columns</p>\n",
              "</div>\n",
              "    <div class=\"colab-df-buttons\">\n",
              "\n",
              "  <div class=\"colab-df-container\">\n",
              "    <button class=\"colab-df-convert\" onclick=\"convertToInteractive('df-b428617d-0315-4ee3-a187-130991d68fb5')\"\n",
              "            title=\"Convert this dataframe to an interactive table.\"\n",
              "            style=\"display:none;\">\n",
              "\n",
              "  <svg xmlns=\"http://www.w3.org/2000/svg\" height=\"24px\" viewBox=\"0 -960 960 960\">\n",
              "    <path d=\"M120-120v-720h720v720H120Zm60-500h600v-160H180v160Zm220 220h160v-160H400v160Zm0 220h160v-160H400v160ZM180-400h160v-160H180v160Zm440 0h160v-160H620v160ZM180-180h160v-160H180v160Zm440 0h160v-160H620v160Z\"/>\n",
              "  </svg>\n",
              "    </button>\n",
              "\n",
              "  <style>\n",
              "    .colab-df-container {\n",
              "      display:flex;\n",
              "      gap: 12px;\n",
              "    }\n",
              "\n",
              "    .colab-df-convert {\n",
              "      background-color: #E8F0FE;\n",
              "      border: none;\n",
              "      border-radius: 50%;\n",
              "      cursor: pointer;\n",
              "      display: none;\n",
              "      fill: #1967D2;\n",
              "      height: 32px;\n",
              "      padding: 0 0 0 0;\n",
              "      width: 32px;\n",
              "    }\n",
              "\n",
              "    .colab-df-convert:hover {\n",
              "      background-color: #E2EBFA;\n",
              "      box-shadow: 0px 1px 2px rgba(60, 64, 67, 0.3), 0px 1px 3px 1px rgba(60, 64, 67, 0.15);\n",
              "      fill: #174EA6;\n",
              "    }\n",
              "\n",
              "    .colab-df-buttons div {\n",
              "      margin-bottom: 4px;\n",
              "    }\n",
              "\n",
              "    [theme=dark] .colab-df-convert {\n",
              "      background-color: #3B4455;\n",
              "      fill: #D2E3FC;\n",
              "    }\n",
              "\n",
              "    [theme=dark] .colab-df-convert:hover {\n",
              "      background-color: #434B5C;\n",
              "      box-shadow: 0px 1px 3px 1px rgba(0, 0, 0, 0.15);\n",
              "      filter: drop-shadow(0px 1px 2px rgba(0, 0, 0, 0.3));\n",
              "      fill: #FFFFFF;\n",
              "    }\n",
              "  </style>\n",
              "\n",
              "    <script>\n",
              "      const buttonEl =\n",
              "        document.querySelector('#df-b428617d-0315-4ee3-a187-130991d68fb5 button.colab-df-convert');\n",
              "      buttonEl.style.display =\n",
              "        google.colab.kernel.accessAllowed ? 'block' : 'none';\n",
              "\n",
              "      async function convertToInteractive(key) {\n",
              "        const element = document.querySelector('#df-b428617d-0315-4ee3-a187-130991d68fb5');\n",
              "        const dataTable =\n",
              "          await google.colab.kernel.invokeFunction('convertToInteractive',\n",
              "                                                    [key], {});\n",
              "        if (!dataTable) return;\n",
              "\n",
              "        const docLinkHtml = 'Like what you see? Visit the ' +\n",
              "          '<a target=\"_blank\" href=https://colab.research.google.com/notebooks/data_table.ipynb>data table notebook</a>'\n",
              "          + ' to learn more about interactive tables.';\n",
              "        element.innerHTML = '';\n",
              "        dataTable['output_type'] = 'display_data';\n",
              "        await google.colab.output.renderOutput(dataTable, element);\n",
              "        const docLink = document.createElement('div');\n",
              "        docLink.innerHTML = docLinkHtml;\n",
              "        element.appendChild(docLink);\n",
              "      }\n",
              "    </script>\n",
              "  </div>\n",
              "\n",
              "\n",
              "<div id=\"df-36273424-40f1-4543-8076-56996da7bbfa\">\n",
              "  <button class=\"colab-df-quickchart\" onclick=\"quickchart('df-36273424-40f1-4543-8076-56996da7bbfa')\"\n",
              "            title=\"Suggest charts\"\n",
              "            style=\"display:none;\">\n",
              "\n",
              "<svg xmlns=\"http://www.w3.org/2000/svg\" height=\"24px\"viewBox=\"0 0 24 24\"\n",
              "     width=\"24px\">\n",
              "    <g>\n",
              "        <path d=\"M19 3H5c-1.1 0-2 .9-2 2v14c0 1.1.9 2 2 2h14c1.1 0 2-.9 2-2V5c0-1.1-.9-2-2-2zM9 17H7v-7h2v7zm4 0h-2V7h2v10zm4 0h-2v-4h2v4z\"/>\n",
              "    </g>\n",
              "</svg>\n",
              "  </button>\n",
              "\n",
              "<style>\n",
              "  .colab-df-quickchart {\n",
              "      --bg-color: #E8F0FE;\n",
              "      --fill-color: #1967D2;\n",
              "      --hover-bg-color: #E2EBFA;\n",
              "      --hover-fill-color: #174EA6;\n",
              "      --disabled-fill-color: #AAA;\n",
              "      --disabled-bg-color: #DDD;\n",
              "  }\n",
              "\n",
              "  [theme=dark] .colab-df-quickchart {\n",
              "      --bg-color: #3B4455;\n",
              "      --fill-color: #D2E3FC;\n",
              "      --hover-bg-color: #434B5C;\n",
              "      --hover-fill-color: #FFFFFF;\n",
              "      --disabled-bg-color: #3B4455;\n",
              "      --disabled-fill-color: #666;\n",
              "  }\n",
              "\n",
              "  .colab-df-quickchart {\n",
              "    background-color: var(--bg-color);\n",
              "    border: none;\n",
              "    border-radius: 50%;\n",
              "    cursor: pointer;\n",
              "    display: none;\n",
              "    fill: var(--fill-color);\n",
              "    height: 32px;\n",
              "    padding: 0;\n",
              "    width: 32px;\n",
              "  }\n",
              "\n",
              "  .colab-df-quickchart:hover {\n",
              "    background-color: var(--hover-bg-color);\n",
              "    box-shadow: 0 1px 2px rgba(60, 64, 67, 0.3), 0 1px 3px 1px rgba(60, 64, 67, 0.15);\n",
              "    fill: var(--button-hover-fill-color);\n",
              "  }\n",
              "\n",
              "  .colab-df-quickchart-complete:disabled,\n",
              "  .colab-df-quickchart-complete:disabled:hover {\n",
              "    background-color: var(--disabled-bg-color);\n",
              "    fill: var(--disabled-fill-color);\n",
              "    box-shadow: none;\n",
              "  }\n",
              "\n",
              "  .colab-df-spinner {\n",
              "    border: 2px solid var(--fill-color);\n",
              "    border-color: transparent;\n",
              "    border-bottom-color: var(--fill-color);\n",
              "    animation:\n",
              "      spin 1s steps(1) infinite;\n",
              "  }\n",
              "\n",
              "  @keyframes spin {\n",
              "    0% {\n",
              "      border-color: transparent;\n",
              "      border-bottom-color: var(--fill-color);\n",
              "      border-left-color: var(--fill-color);\n",
              "    }\n",
              "    20% {\n",
              "      border-color: transparent;\n",
              "      border-left-color: var(--fill-color);\n",
              "      border-top-color: var(--fill-color);\n",
              "    }\n",
              "    30% {\n",
              "      border-color: transparent;\n",
              "      border-left-color: var(--fill-color);\n",
              "      border-top-color: var(--fill-color);\n",
              "      border-right-color: var(--fill-color);\n",
              "    }\n",
              "    40% {\n",
              "      border-color: transparent;\n",
              "      border-right-color: var(--fill-color);\n",
              "      border-top-color: var(--fill-color);\n",
              "    }\n",
              "    60% {\n",
              "      border-color: transparent;\n",
              "      border-right-color: var(--fill-color);\n",
              "    }\n",
              "    80% {\n",
              "      border-color: transparent;\n",
              "      border-right-color: var(--fill-color);\n",
              "      border-bottom-color: var(--fill-color);\n",
              "    }\n",
              "    90% {\n",
              "      border-color: transparent;\n",
              "      border-bottom-color: var(--fill-color);\n",
              "    }\n",
              "  }\n",
              "</style>\n",
              "\n",
              "  <script>\n",
              "    async function quickchart(key) {\n",
              "      const quickchartButtonEl =\n",
              "        document.querySelector('#' + key + ' button');\n",
              "      quickchartButtonEl.disabled = true;  // To prevent multiple clicks.\n",
              "      quickchartButtonEl.classList.add('colab-df-spinner');\n",
              "      try {\n",
              "        const charts = await google.colab.kernel.invokeFunction(\n",
              "            'suggestCharts', [key], {});\n",
              "      } catch (error) {\n",
              "        console.error('Error during call to suggestCharts:', error);\n",
              "      }\n",
              "      quickchartButtonEl.classList.remove('colab-df-spinner');\n",
              "      quickchartButtonEl.classList.add('colab-df-quickchart-complete');\n",
              "    }\n",
              "    (() => {\n",
              "      let quickchartButtonEl =\n",
              "        document.querySelector('#df-36273424-40f1-4543-8076-56996da7bbfa button');\n",
              "      quickchartButtonEl.style.display =\n",
              "        google.colab.kernel.accessAllowed ? 'block' : 'none';\n",
              "    })();\n",
              "  </script>\n",
              "</div>\n",
              "    </div>\n",
              "  </div>\n"
            ]
          },
          "metadata": {},
          "execution_count": 110
        }
      ]
    },
    {
      "cell_type": "markdown",
      "source": [
        "###Data Statistik Sumatra Utara  yakni IPM, Sumber Penerangan dari Listrik (%) dan Tenaga listrik yang dibangkitkan (GWh)"
      ],
      "metadata": {
        "id": "0nywM4LF97dV"
      }
    },
    {
      "cell_type": "code",
      "source": [
        "ipm = pd.read_excel(\"/content/IPMsumut.xlsx\")\n",
        "ipm"
      ],
      "metadata": {
        "colab": {
          "base_uri": "https://localhost:8080/"
        },
        "id": "4VxE_9jRTjfr",
        "outputId": "531174e6-7aa9-46a2-ade0-88a53acd7cf8"
      },
      "execution_count": null,
      "outputs": [
        {
          "output_type": "display_data",
          "data": {
            "text/plain": [
              "<IPython.core.display.HTML object>"
            ],
            "text/html": [
              "\n",
              "            <style>\n",
              "                .geemap-dark {\n",
              "                    --jp-widgets-color: white;\n",
              "                    --jp-widgets-label-color: white;\n",
              "                    --jp-ui-font-color1: white;\n",
              "                    --jp-layout-color2: #454545;\n",
              "                    background-color: #383838;\n",
              "                }\n",
              "                    \n",
              "                .geemap-dark .jupyter-button {\n",
              "                    --jp-layout-color3: #383838;\n",
              "                }\n",
              "                \n",
              "                .geemap-colab {\n",
              "                    background-color: var(--colab-primary-surface-color, white);\n",
              "                }\n",
              "                    \n",
              "                .geemap-colab .jupyter-button {\n",
              "                    --jp-layout-color3: var(--colab-primary-surface-color, white);\n",
              "                }\n",
              "            </style>\n",
              "            "
            ]
          },
          "metadata": {}
        },
        {
          "output_type": "execute_result",
          "data": {
            "text/plain": [
              "   Tahun    IPM       GWh  persen\n",
              "0   2014  68.87  18028.30   95.97\n",
              "1   2015  69.51  18876.59   96.81\n",
              "2   2016  70.00      0.00   96.84\n",
              "3   2017  70.57  18544.99   97.41\n",
              "4   2018  71.18  20188.10   97.55\n",
              "5   2019  71.74  20764.57   98.37\n",
              "6   2020  71.77  20667.17   98.72"
            ],
            "text/html": [
              "\n",
              "  <div id=\"df-adab596e-7b66-4b64-8023-7a406a4a52ae\" class=\"colab-df-container\">\n",
              "    <div>\n",
              "<style scoped>\n",
              "    .dataframe tbody tr th:only-of-type {\n",
              "        vertical-align: middle;\n",
              "    }\n",
              "\n",
              "    .dataframe tbody tr th {\n",
              "        vertical-align: top;\n",
              "    }\n",
              "\n",
              "    .dataframe thead th {\n",
              "        text-align: right;\n",
              "    }\n",
              "</style>\n",
              "<table border=\"1\" class=\"dataframe\">\n",
              "  <thead>\n",
              "    <tr style=\"text-align: right;\">\n",
              "      <th></th>\n",
              "      <th>Tahun</th>\n",
              "      <th>IPM</th>\n",
              "      <th>GWh</th>\n",
              "      <th>persen</th>\n",
              "    </tr>\n",
              "  </thead>\n",
              "  <tbody>\n",
              "    <tr>\n",
              "      <th>0</th>\n",
              "      <td>2014</td>\n",
              "      <td>68.87</td>\n",
              "      <td>18028.30</td>\n",
              "      <td>95.97</td>\n",
              "    </tr>\n",
              "    <tr>\n",
              "      <th>1</th>\n",
              "      <td>2015</td>\n",
              "      <td>69.51</td>\n",
              "      <td>18876.59</td>\n",
              "      <td>96.81</td>\n",
              "    </tr>\n",
              "    <tr>\n",
              "      <th>2</th>\n",
              "      <td>2016</td>\n",
              "      <td>70.00</td>\n",
              "      <td>0.00</td>\n",
              "      <td>96.84</td>\n",
              "    </tr>\n",
              "    <tr>\n",
              "      <th>3</th>\n",
              "      <td>2017</td>\n",
              "      <td>70.57</td>\n",
              "      <td>18544.99</td>\n",
              "      <td>97.41</td>\n",
              "    </tr>\n",
              "    <tr>\n",
              "      <th>4</th>\n",
              "      <td>2018</td>\n",
              "      <td>71.18</td>\n",
              "      <td>20188.10</td>\n",
              "      <td>97.55</td>\n",
              "    </tr>\n",
              "    <tr>\n",
              "      <th>5</th>\n",
              "      <td>2019</td>\n",
              "      <td>71.74</td>\n",
              "      <td>20764.57</td>\n",
              "      <td>98.37</td>\n",
              "    </tr>\n",
              "    <tr>\n",
              "      <th>6</th>\n",
              "      <td>2020</td>\n",
              "      <td>71.77</td>\n",
              "      <td>20667.17</td>\n",
              "      <td>98.72</td>\n",
              "    </tr>\n",
              "  </tbody>\n",
              "</table>\n",
              "</div>\n",
              "    <div class=\"colab-df-buttons\">\n",
              "\n",
              "  <div class=\"colab-df-container\">\n",
              "    <button class=\"colab-df-convert\" onclick=\"convertToInteractive('df-adab596e-7b66-4b64-8023-7a406a4a52ae')\"\n",
              "            title=\"Convert this dataframe to an interactive table.\"\n",
              "            style=\"display:none;\">\n",
              "\n",
              "  <svg xmlns=\"http://www.w3.org/2000/svg\" height=\"24px\" viewBox=\"0 -960 960 960\">\n",
              "    <path d=\"M120-120v-720h720v720H120Zm60-500h600v-160H180v160Zm220 220h160v-160H400v160Zm0 220h160v-160H400v160ZM180-400h160v-160H180v160Zm440 0h160v-160H620v160ZM180-180h160v-160H180v160Zm440 0h160v-160H620v160Z\"/>\n",
              "  </svg>\n",
              "    </button>\n",
              "\n",
              "  <style>\n",
              "    .colab-df-container {\n",
              "      display:flex;\n",
              "      gap: 12px;\n",
              "    }\n",
              "\n",
              "    .colab-df-convert {\n",
              "      background-color: #E8F0FE;\n",
              "      border: none;\n",
              "      border-radius: 50%;\n",
              "      cursor: pointer;\n",
              "      display: none;\n",
              "      fill: #1967D2;\n",
              "      height: 32px;\n",
              "      padding: 0 0 0 0;\n",
              "      width: 32px;\n",
              "    }\n",
              "\n",
              "    .colab-df-convert:hover {\n",
              "      background-color: #E2EBFA;\n",
              "      box-shadow: 0px 1px 2px rgba(60, 64, 67, 0.3), 0px 1px 3px 1px rgba(60, 64, 67, 0.15);\n",
              "      fill: #174EA6;\n",
              "    }\n",
              "\n",
              "    .colab-df-buttons div {\n",
              "      margin-bottom: 4px;\n",
              "    }\n",
              "\n",
              "    [theme=dark] .colab-df-convert {\n",
              "      background-color: #3B4455;\n",
              "      fill: #D2E3FC;\n",
              "    }\n",
              "\n",
              "    [theme=dark] .colab-df-convert:hover {\n",
              "      background-color: #434B5C;\n",
              "      box-shadow: 0px 1px 3px 1px rgba(0, 0, 0, 0.15);\n",
              "      filter: drop-shadow(0px 1px 2px rgba(0, 0, 0, 0.3));\n",
              "      fill: #FFFFFF;\n",
              "    }\n",
              "  </style>\n",
              "\n",
              "    <script>\n",
              "      const buttonEl =\n",
              "        document.querySelector('#df-adab596e-7b66-4b64-8023-7a406a4a52ae button.colab-df-convert');\n",
              "      buttonEl.style.display =\n",
              "        google.colab.kernel.accessAllowed ? 'block' : 'none';\n",
              "\n",
              "      async function convertToInteractive(key) {\n",
              "        const element = document.querySelector('#df-adab596e-7b66-4b64-8023-7a406a4a52ae');\n",
              "        const dataTable =\n",
              "          await google.colab.kernel.invokeFunction('convertToInteractive',\n",
              "                                                    [key], {});\n",
              "        if (!dataTable) return;\n",
              "\n",
              "        const docLinkHtml = 'Like what you see? Visit the ' +\n",
              "          '<a target=\"_blank\" href=https://colab.research.google.com/notebooks/data_table.ipynb>data table notebook</a>'\n",
              "          + ' to learn more about interactive tables.';\n",
              "        element.innerHTML = '';\n",
              "        dataTable['output_type'] = 'display_data';\n",
              "        await google.colab.output.renderOutput(dataTable, element);\n",
              "        const docLink = document.createElement('div');\n",
              "        docLink.innerHTML = docLinkHtml;\n",
              "        element.appendChild(docLink);\n",
              "      }\n",
              "    </script>\n",
              "  </div>\n",
              "\n",
              "\n",
              "<div id=\"df-3c100ed2-3403-41c9-b1e6-3c2d18a9cab2\">\n",
              "  <button class=\"colab-df-quickchart\" onclick=\"quickchart('df-3c100ed2-3403-41c9-b1e6-3c2d18a9cab2')\"\n",
              "            title=\"Suggest charts\"\n",
              "            style=\"display:none;\">\n",
              "\n",
              "<svg xmlns=\"http://www.w3.org/2000/svg\" height=\"24px\"viewBox=\"0 0 24 24\"\n",
              "     width=\"24px\">\n",
              "    <g>\n",
              "        <path d=\"M19 3H5c-1.1 0-2 .9-2 2v14c0 1.1.9 2 2 2h14c1.1 0 2-.9 2-2V5c0-1.1-.9-2-2-2zM9 17H7v-7h2v7zm4 0h-2V7h2v10zm4 0h-2v-4h2v4z\"/>\n",
              "    </g>\n",
              "</svg>\n",
              "  </button>\n",
              "\n",
              "<style>\n",
              "  .colab-df-quickchart {\n",
              "      --bg-color: #E8F0FE;\n",
              "      --fill-color: #1967D2;\n",
              "      --hover-bg-color: #E2EBFA;\n",
              "      --hover-fill-color: #174EA6;\n",
              "      --disabled-fill-color: #AAA;\n",
              "      --disabled-bg-color: #DDD;\n",
              "  }\n",
              "\n",
              "  [theme=dark] .colab-df-quickchart {\n",
              "      --bg-color: #3B4455;\n",
              "      --fill-color: #D2E3FC;\n",
              "      --hover-bg-color: #434B5C;\n",
              "      --hover-fill-color: #FFFFFF;\n",
              "      --disabled-bg-color: #3B4455;\n",
              "      --disabled-fill-color: #666;\n",
              "  }\n",
              "\n",
              "  .colab-df-quickchart {\n",
              "    background-color: var(--bg-color);\n",
              "    border: none;\n",
              "    border-radius: 50%;\n",
              "    cursor: pointer;\n",
              "    display: none;\n",
              "    fill: var(--fill-color);\n",
              "    height: 32px;\n",
              "    padding: 0;\n",
              "    width: 32px;\n",
              "  }\n",
              "\n",
              "  .colab-df-quickchart:hover {\n",
              "    background-color: var(--hover-bg-color);\n",
              "    box-shadow: 0 1px 2px rgba(60, 64, 67, 0.3), 0 1px 3px 1px rgba(60, 64, 67, 0.15);\n",
              "    fill: var(--button-hover-fill-color);\n",
              "  }\n",
              "\n",
              "  .colab-df-quickchart-complete:disabled,\n",
              "  .colab-df-quickchart-complete:disabled:hover {\n",
              "    background-color: var(--disabled-bg-color);\n",
              "    fill: var(--disabled-fill-color);\n",
              "    box-shadow: none;\n",
              "  }\n",
              "\n",
              "  .colab-df-spinner {\n",
              "    border: 2px solid var(--fill-color);\n",
              "    border-color: transparent;\n",
              "    border-bottom-color: var(--fill-color);\n",
              "    animation:\n",
              "      spin 1s steps(1) infinite;\n",
              "  }\n",
              "\n",
              "  @keyframes spin {\n",
              "    0% {\n",
              "      border-color: transparent;\n",
              "      border-bottom-color: var(--fill-color);\n",
              "      border-left-color: var(--fill-color);\n",
              "    }\n",
              "    20% {\n",
              "      border-color: transparent;\n",
              "      border-left-color: var(--fill-color);\n",
              "      border-top-color: var(--fill-color);\n",
              "    }\n",
              "    30% {\n",
              "      border-color: transparent;\n",
              "      border-left-color: var(--fill-color);\n",
              "      border-top-color: var(--fill-color);\n",
              "      border-right-color: var(--fill-color);\n",
              "    }\n",
              "    40% {\n",
              "      border-color: transparent;\n",
              "      border-right-color: var(--fill-color);\n",
              "      border-top-color: var(--fill-color);\n",
              "    }\n",
              "    60% {\n",
              "      border-color: transparent;\n",
              "      border-right-color: var(--fill-color);\n",
              "    }\n",
              "    80% {\n",
              "      border-color: transparent;\n",
              "      border-right-color: var(--fill-color);\n",
              "      border-bottom-color: var(--fill-color);\n",
              "    }\n",
              "    90% {\n",
              "      border-color: transparent;\n",
              "      border-bottom-color: var(--fill-color);\n",
              "    }\n",
              "  }\n",
              "</style>\n",
              "\n",
              "  <script>\n",
              "    async function quickchart(key) {\n",
              "      const quickchartButtonEl =\n",
              "        document.querySelector('#' + key + ' button');\n",
              "      quickchartButtonEl.disabled = true;  // To prevent multiple clicks.\n",
              "      quickchartButtonEl.classList.add('colab-df-spinner');\n",
              "      try {\n",
              "        const charts = await google.colab.kernel.invokeFunction(\n",
              "            'suggestCharts', [key], {});\n",
              "      } catch (error) {\n",
              "        console.error('Error during call to suggestCharts:', error);\n",
              "      }\n",
              "      quickchartButtonEl.classList.remove('colab-df-spinner');\n",
              "      quickchartButtonEl.classList.add('colab-df-quickchart-complete');\n",
              "    }\n",
              "    (() => {\n",
              "      let quickchartButtonEl =\n",
              "        document.querySelector('#df-3c100ed2-3403-41c9-b1e6-3c2d18a9cab2 button');\n",
              "      quickchartButtonEl.style.display =\n",
              "        google.colab.kernel.accessAllowed ? 'block' : 'none';\n",
              "    })();\n",
              "  </script>\n",
              "</div>\n",
              "    </div>\n",
              "  </div>\n"
            ]
          },
          "metadata": {},
          "execution_count": 111
        }
      ]
    },
    {
      "cell_type": "code",
      "source": [
        "F = data[\"F\"]\n",
        "data.plot() #plot bulan masih dalam integer"
      ],
      "metadata": {
        "colab": {
          "base_uri": "https://localhost:8080/"
        },
        "id": "k5N2CuY1W7Zr",
        "outputId": "a16e47cd-7a78-4b5c-b3d0-03a4ab32be38"
      },
      "execution_count": null,
      "outputs": [
        {
          "output_type": "display_data",
          "data": {
            "text/plain": [
              "<IPython.core.display.HTML object>"
            ],
            "text/html": [
              "\n",
              "            <style>\n",
              "                .geemap-dark {\n",
              "                    --jp-widgets-color: white;\n",
              "                    --jp-widgets-label-color: white;\n",
              "                    --jp-ui-font-color1: white;\n",
              "                    --jp-layout-color2: #454545;\n",
              "                    background-color: #383838;\n",
              "                }\n",
              "                    \n",
              "                .geemap-dark .jupyter-button {\n",
              "                    --jp-layout-color3: #383838;\n",
              "                }\n",
              "                \n",
              "                .geemap-colab {\n",
              "                    background-color: var(--colab-primary-surface-color, white);\n",
              "                }\n",
              "                    \n",
              "                .geemap-colab .jupyter-button {\n",
              "                    --jp-layout-color3: var(--colab-primary-surface-color, white);\n",
              "                }\n",
              "            </style>\n",
              "            "
            ]
          },
          "metadata": {}
        },
        {
          "output_type": "execute_result",
          "data": {
            "text/plain": [
              "<Axes: >"
            ]
          },
          "metadata": {},
          "execution_count": 112
        },
        {
          "output_type": "display_data",
          "data": {
            "text/plain": [
              "<Figure size 640x480 with 1 Axes>"
            ],
            "image/png": "[encoded data removed]"
          },
          "metadata": {}
        }
      ]
    },
    {
      "cell_type": "code",
      "source": [
        "import datetime\n",
        "data['Tahun'] = data['month'] #karena data ridak dalam satu tahun, maka interval diubah dari Bulanan ke tahunan"
      ],
      "metadata": {
        "colab": {
          "base_uri": "https://localhost:8080/"
        },
        "id": "6vVXhzkidxrC",
        "outputId": "231f9224-55ce-4e7c-a823-2b6ec0f833c3"
      },
      "execution_count": null,
      "outputs": [
        {
          "output_type": "display_data",
          "data": {
            "text/plain": [
              "<IPython.core.display.HTML object>"
            ],
            "text/html": [
              "\n",
              "            <style>\n",
              "                .geemap-dark {\n",
              "                    --jp-widgets-color: white;\n",
              "                    --jp-widgets-label-color: white;\n",
              "                    --jp-ui-font-color1: white;\n",
              "                    --jp-layout-color2: #454545;\n",
              "                    background-color: #383838;\n",
              "                }\n",
              "                    \n",
              "                .geemap-dark .jupyter-button {\n",
              "                    --jp-layout-color3: #383838;\n",
              "                }\n",
              "                \n",
              "                .geemap-colab {\n",
              "                    background-color: var(--colab-primary-surface-color, white);\n",
              "                }\n",
              "                    \n",
              "                .geemap-colab .jupyter-button {\n",
              "                    --jp-layout-color3: var(--colab-primary-surface-color, white);\n",
              "                }\n",
              "            </style>\n",
              "            "
            ]
          },
          "metadata": {}
        }
      ]
    },
    {
      "cell_type": "code",
      "source": [
        "data['Tahun'] = pd.to_datetime(data['Tahun'], format = '%Y-%m-%d').dt.date\n",
        "data.set_index('Tahun', inplace = True)\n"
      ],
      "metadata": {
        "colab": {
          "base_uri": "https://localhost:8080/"
        },
        "id": "easwgfvzec6B",
        "outputId": "31076698-5dc6-4549-e5ec-c05a041cb624"
      },
      "execution_count": null,
      "outputs": [
        {
          "output_type": "display_data",
          "data": {
            "text/plain": [
              "<IPython.core.display.HTML object>"
            ],
            "text/html": [
              "\n",
              "            <style>\n",
              "                .geemap-dark {\n",
              "                    --jp-widgets-color: white;\n",
              "                    --jp-widgets-label-color: white;\n",
              "                    --jp-ui-font-color1: white;\n",
              "                    --jp-layout-color2: #454545;\n",
              "                    background-color: #383838;\n",
              "                }\n",
              "                    \n",
              "                .geemap-dark .jupyter-button {\n",
              "                    --jp-layout-color3: #383838;\n",
              "                }\n",
              "                \n",
              "                .geemap-colab {\n",
              "                    background-color: var(--colab-primary-surface-color, white);\n",
              "                }\n",
              "                    \n",
              "                .geemap-colab .jupyter-button {\n",
              "                    --jp-layout-color3: var(--colab-primary-surface-color, white);\n",
              "                }\n",
              "            </style>\n",
              "            "
            ]
          },
          "metadata": {}
        }
      ]
    },
    {
      "cell_type": "markdown",
      "source": [
        "##Plotting"
      ],
      "metadata": {
        "id": "1M2SY_wg-pdH"
      }
    },
    {
      "cell_type": "markdown",
      "source": [
        "###Plot Kecerlangan Langit Bulanan Sumatra Utara"
      ],
      "metadata": {
        "id": "uI_F05FR-rfG"
      }
    },
    {
      "cell_type": "code",
      "source": [
        "#plt.plot(data['month'],data['F'])\n",
        "fig, ax = plt.subplots(1, 1, figsize = (6, 4))\n",
        "data['F'].plot()\n",
        "plt.title(\"Kecerlangan Langit Bulanan Sumatra Utara\")\n",
        "plt.ylabel(r'Avg Monthly Cloud-free DNB Composite $\\frac{nW \\cdot cm^{-2}}{sr}$')\n",
        "step = 2\n",
        "ax.xaxis.set_major_locator(md.YearLocator(step, month = 1, day = 1))\n",
        "ax.xaxis.set_major_formatter(md.DateFormatter('%Y'))"
      ],
      "metadata": {
        "colab": {
          "base_uri": "https://localhost:8080/"
        },
        "id": "ZyAz2cqO60wV",
        "outputId": "7a06b71b-a083-4fc7-9102-dee0b5028677"
      },
      "execution_count": null,
      "outputs": [
        {
          "output_type": "display_data",
          "data": {
            "text/plain": [
              "<IPython.core.display.HTML object>"
            ],
            "text/html": [
              "\n",
              "            <style>\n",
              "                .geemap-dark {\n",
              "                    --jp-widgets-color: white;\n",
              "                    --jp-widgets-label-color: white;\n",
              "                    --jp-ui-font-color1: white;\n",
              "                    --jp-layout-color2: #454545;\n",
              "                    background-color: #383838;\n",
              "                }\n",
              "                    \n",
              "                .geemap-dark .jupyter-button {\n",
              "                    --jp-layout-color3: #383838;\n",
              "                }\n",
              "                \n",
              "                .geemap-colab {\n",
              "                    background-color: var(--colab-primary-surface-color, white);\n",
              "                }\n",
              "                    \n",
              "                .geemap-colab .jupyter-button {\n",
              "                    --jp-layout-color3: var(--colab-primary-surface-color, white);\n",
              "                }\n",
              "            </style>\n",
              "            "
            ]
          },
          "metadata": {}
        },
        {
          "output_type": "display_data",
          "data": {
            "text/plain": [
              "<Figure size 600x400 with 1 Axes>"
            ],
            "image/png": "[encoded data removed]"
          },
          "metadata": {}
        }
      ]
    },
    {
      "cell_type": "markdown",
      "source": [
        "###Plot Kecerlangan Langit Tahunan Sumatra Utara"
      ],
      "metadata": {
        "id": "Sxv6viuv-3NC"
      }
    },
    {
      "cell_type": "code",
      "source": [
        "dF = data['F'].values\n",
        "avgF = np.average(dF.reshape(-1, 12), axis=1)\n",
        "dt = []\n",
        "for i in range(len(avgF)):\n",
        "  x = i+2014\n",
        "  dt.append(x)\n",
        "\n",
        "plt.plot(dt, avgF)\n",
        "plt.plot(ipm['Tahun'][4:-3], ipm['IPM'][4:-3])\n",
        "plt.title(\"Kecerlangan langit tahunan Sumatra Utara\")\n",
        "plt.xlabel(\"Tahun\")\n",
        "plt.ylabel(r\"Avg Yearly Cloud-free DNB Composite $\\frac{nW \\cdot cm^{-2}}{sr}$\")"
      ],
      "metadata": {
        "colab": {
          "base_uri": "https://localhost:8080/"
        },
        "id": "WJ7-cuST3nbg",
        "outputId": "60506bf1-d009-47f8-8948-dd1876076898"
      },
      "execution_count": null,
      "outputs": [
        {
          "output_type": "display_data",
          "data": {
            "text/plain": [
              "<IPython.core.display.HTML object>"
            ],
            "text/html": [
              "\n",
              "            <style>\n",
              "                .geemap-dark {\n",
              "                    --jp-widgets-color: white;\n",
              "                    --jp-widgets-label-color: white;\n",
              "                    --jp-ui-font-color1: white;\n",
              "                    --jp-layout-color2: #454545;\n",
              "                    background-color: #383838;\n",
              "                }\n",
              "                    \n",
              "                .geemap-dark .jupyter-button {\n",
              "                    --jp-layout-color3: #383838;\n",
              "                }\n",
              "                \n",
              "                .geemap-colab {\n",
              "                    background-color: var(--colab-primary-surface-color, white);\n",
              "                }\n",
              "                    \n",
              "                .geemap-colab .jupyter-button {\n",
              "                    --jp-layout-color3: var(--colab-primary-surface-color, white);\n",
              "                }\n",
              "            </style>\n",
              "            "
            ]
          },
          "metadata": {}
        },
        {
          "output_type": "execute_result",
          "data": {
            "text/plain": [
              "Text(0, 0.5, 'Avg Yearly Cloud-free DNB Composite $\\\\frac{nW \\\\cdot cm^{-2}}{sr}$')"
            ]
          },
          "metadata": {},
          "execution_count": 117
        },
        {
          "output_type": "display_data",
          "data": {
            "text/plain": [
              "<Figure size 640x480 with 1 Axes>"
            ],
            "image/png": "[encoded data removed]"
          },
          "metadata": {}
        }
      ]
    },
    {
      "cell_type": "code",
      "source": [
        "ipm['GWh'].replace(0, np.NaN, inplace=True)\n",
        "\n",
        "ipm['GWh'] = ipm['GWh'].interpolate()"
      ],
      "metadata": {
        "colab": {
          "base_uri": "https://localhost:8080/"
        },
        "id": "5MZi1FSV3cbT",
        "outputId": "b7db7c80-5263-4b55-ea75-032f2130b299"
      },
      "execution_count": null,
      "outputs": [
        {
          "output_type": "display_data",
          "data": {
            "text/plain": [
              "<IPython.core.display.HTML object>"
            ],
            "text/html": [
              "\n",
              "            <style>\n",
              "                .geemap-dark {\n",
              "                    --jp-widgets-color: white;\n",
              "                    --jp-widgets-label-color: white;\n",
              "                    --jp-ui-font-color1: white;\n",
              "                    --jp-layout-color2: #454545;\n",
              "                    background-color: #383838;\n",
              "                }\n",
              "                    \n",
              "                .geemap-dark .jupyter-button {\n",
              "                    --jp-layout-color3: #383838;\n",
              "                }\n",
              "                \n",
              "                .geemap-colab {\n",
              "                    background-color: var(--colab-primary-surface-color, white);\n",
              "                }\n",
              "                    \n",
              "                .geemap-colab .jupyter-button {\n",
              "                    --jp-layout-color3: var(--colab-primary-surface-color, white);\n",
              "                }\n",
              "            </style>\n",
              "            "
            ]
          },
          "metadata": {}
        }
      ]
    },
    {
      "cell_type": "markdown",
      "source": [
        "###Plot Kecerlangan Langit Tahunan Vs IPM Sumatra Utara"
      ],
      "metadata": {
        "id": "rgPErmHD-8mT"
      }
    },
    {
      "cell_type": "code",
      "source": [
        "#define subplots\n",
        "fig,ax = plt.subplots()\n",
        "plt.title(\"Grafik IPM dan Kecerlangan Langit\")\n",
        "\n",
        "#add first line to plot\n",
        "ax.plot(dt, avgF, linestyle=':', color='b', label='Avg Monthly Cloud-free DNB Composite')\n",
        "ax.scatter(dt, avgF, linestyle=':', color='b', label='Avg Monthly Cloud-free DNB Composite')\n",
        "#add x-axis label\n",
        "ax.set_xlabel('Tahun', fontsize=12)\n",
        "#ax.legend()\n",
        "\n",
        "#add y-axis label\n",
        "ax.set_ylabel(r'Avg Yearly Cloud-free DNB Composite $\\frac{nW \\cdot cm^{-2}}{sr}$', color='b', fontsize=12)\n",
        "#ax.tick_params(axis='x', colors=\"b\")\n",
        "ax.tick_params(axis='y', colors=\"b\")\n",
        "\n",
        "#define second y-axis that shares x-axis with current plot\n",
        "ax2 = ax.twinx()\n",
        "\n",
        "#add second line to plot\n",
        "ax2.plot(ipm.Tahun, ipm.IPM, color='r', label='IPM')\n",
        "ax2.scatter(ipm.Tahun, ipm.IPM, color='r', label='IPM')\n",
        "\n",
        "#add second y-axis label\n",
        "ax2.set_ylabel('IPM', color='r', fontsize=12)\n",
        "ax2.tick_params(axis='x', colors=\"r\")\n",
        "ax2.tick_params(axis='y', colors=\"r\")\n"
      ],
      "metadata": {
        "colab": {
          "base_uri": "https://localhost:8080/"
        },
        "id": "5d38H_yRVUoN",
        "outputId": "e60b8d99-6d7b-4d33-c0fe-af574f286437"
      },
      "execution_count": null,
      "outputs": [
        {
          "output_type": "display_data",
          "data": {
            "text/plain": [
              "<IPython.core.display.HTML object>"
            ],
            "text/html": [
              "\n",
              "            <style>\n",
              "                .geemap-dark {\n",
              "                    --jp-widgets-color: white;\n",
              "                    --jp-widgets-label-color: white;\n",
              "                    --jp-ui-font-color1: white;\n",
              "                    --jp-layout-color2: #454545;\n",
              "                    background-color: #383838;\n",
              "                }\n",
              "                    \n",
              "                .geemap-dark .jupyter-button {\n",
              "                    --jp-layout-color3: #383838;\n",
              "                }\n",
              "                \n",
              "                .geemap-colab {\n",
              "                    background-color: var(--colab-primary-surface-color, white);\n",
              "                }\n",
              "                    \n",
              "                .geemap-colab .jupyter-button {\n",
              "                    --jp-layout-color3: var(--colab-primary-surface-color, white);\n",
              "                }\n",
              "            </style>\n",
              "            "
            ]
          },
          "metadata": {}
        },
        {
          "output_type": "display_data",
          "data": {
            "text/plain": [
              "<Figure size 640x480 with 2 Axes>"
            ],
            "image/png": "[encoded data removed]"
          },
          "metadata": {}
        }
      ]
    },
    {
      "cell_type": "markdown",
      "source": [
        "###Plot Kecerlangan Langit Tahunan Vs Tenaga Listrik yang Dibangkitkan(GWh) Sumatra Utara"
      ],
      "metadata": {
        "id": "pLouC_ri_DwF"
      }
    },
    {
      "cell_type": "code",
      "source": [
        "fig,ax = plt.subplots()\n",
        "plt.title(\"Grafik Tenaga Listrik yang dibangkitkan dan Kecerlangan Langit\")\n",
        "\n",
        "#add first line to plot\n",
        "ax.plot(dt, avgF, linestyle=':', color='b', label='Avg Monthly Cloud-free DNB Composite')\n",
        "ax.scatter(dt, avgF, linestyle=':', color='b', label='Avg Monthly Cloud-free DNB Composite')\n",
        "#add x-axis label\n",
        "ax.set_xlabel('Tahun', fontsize=12)\n",
        "#ax.legend()\n",
        "\n",
        "#add y-axis label\n",
        "ax.set_ylabel(r'Avg Yearly Cloud-free DNB Composite $\\frac{nW \\cdot cm^{-2}}{sr}$', color='b', fontsize=12)\n",
        "#ax.tick_params(axis='x', colors=\"b\")\n",
        "ax.tick_params(axis='y', colors=\"b\")\n",
        "\n",
        "#define second y-axis that shares x-axis with current plot\n",
        "ax2 = ax.twinx()\n",
        "\n",
        "#add second line to plot\n",
        "ax2.plot(ipm.Tahun, ipm.GWh, color='r', label='IPM')\n",
        "ax2.scatter(ipm.Tahun, ipm.GWh, color='r', label='IPM')\n",
        "#add second y-axis label\n",
        "ax2.set_ylabel('Tenaga Listrik yang Dibangkitkan (GWh)', color='r', fontsize=12)\n",
        "ax2.tick_params(axis='x', colors=\"r\")\n",
        "ax2.tick_params(axis='y', colors=\"r\")"
      ],
      "metadata": {
        "colab": {
          "base_uri": "https://localhost:8080/"
        },
        "id": "w1SPExab_LrS",
        "outputId": "040bfbdc-a070-4373-cb7d-79fa5c64effc"
      },
      "execution_count": null,
      "outputs": [
        {
          "output_type": "display_data",
          "data": {
            "text/plain": [
              "<IPython.core.display.HTML object>"
            ],
            "text/html": [
              "\n",
              "            <style>\n",
              "                .geemap-dark {\n",
              "                    --jp-widgets-color: white;\n",
              "                    --jp-widgets-label-color: white;\n",
              "                    --jp-ui-font-color1: white;\n",
              "                    --jp-layout-color2: #454545;\n",
              "                    background-color: #383838;\n",
              "                }\n",
              "                    \n",
              "                .geemap-dark .jupyter-button {\n",
              "                    --jp-layout-color3: #383838;\n",
              "                }\n",
              "                \n",
              "                .geemap-colab {\n",
              "                    background-color: var(--colab-primary-surface-color, white);\n",
              "                }\n",
              "                    \n",
              "                .geemap-colab .jupyter-button {\n",
              "                    --jp-layout-color3: var(--colab-primary-surface-color, white);\n",
              "                }\n",
              "            </style>\n",
              "            "
            ]
          },
          "metadata": {}
        },
        {
          "output_type": "display_data",
          "data": {
            "text/plain": [
              "<Figure size 640x480 with 2 Axes>"
            ],
            "image/png": "[encoded data removed]"
          },
          "metadata": {}
        }
      ]
    },
    {
      "cell_type": "markdown",
      "source": [
        "###Plot Kecerlangan Langit Tahunan Vs Persen Rumah Tangga menggunakan sumber penerangan dari Listrik Sumatra Utara"
      ],
      "metadata": {
        "id": "bl8QwvKt_SmU"
      }
    },
    {
      "cell_type": "code",
      "source": [
        "fig,ax = plt.subplots()\n",
        "plt.title(\"Grafik Sumber Penerangan dari Listrik (%) dan Kecerlangan Langit\")\n",
        "\n",
        "#add first line to plot\n",
        "ax.plot(dt, avgF, linestyle=':', color='b', label='Avg Monthly Cloud-free DNB Composite')\n",
        "ax.scatter(dt, avgF, linestyle=':', color='b', label='Avg Monthly Cloud-free DNB Composite')\n",
        "#add x-axis label\n",
        "ax.set_xlabel('Tahun', fontsize=12)\n",
        "#ax.legend()\n",
        "\n",
        "#add y-axis label\n",
        "ax.set_ylabel(r'Avg Yearly Cloud-free DNB Composite $\\frac{nW \\cdot cm^{-2}}{sr}$', color='b', fontsize=12)\n",
        "#ax.tick_params(axis='x', colors=\"b\")\n",
        "ax.tick_params(axis='y', colors=\"b\")\n",
        "\n",
        "#define second y-axis that shares x-axis with current plot\n",
        "ax2 = ax.twinx()\n",
        "\n",
        "#add second line to plot\n",
        "ax2.plot(ipm.Tahun, ipm.persen, color='r', label='IPM')\n",
        "ax2.scatter(ipm.Tahun, ipm.persen, color='r', label='IPM')\n",
        "#add second y-axis label\n",
        "ax2.set_ylabel('Sumber Penerangan dari Listrik (%)', color='r', fontsize=12)\n",
        "ax2.tick_params(axis='x', colors=\"r\")\n",
        "ax2.tick_params(axis='y', colors=\"r\")\n",
        "#ax2.legend()\n"
      ],
      "metadata": {
        "colab": {
          "base_uri": "https://localhost:8080/"
        },
        "id": "Y8yw5RNK_iB2",
        "outputId": "ef8302cf-2ce3-4510-db7b-b72ba0a3b7e2"
      },
      "execution_count": null,
      "outputs": [
        {
          "output_type": "display_data",
          "data": {
            "text/plain": [
              "<IPython.core.display.HTML object>"
            ],
            "text/html": [
              "\n",
              "            <style>\n",
              "                .geemap-dark {\n",
              "                    --jp-widgets-color: white;\n",
              "                    --jp-widgets-label-color: white;\n",
              "                    --jp-ui-font-color1: white;\n",
              "                    --jp-layout-color2: #454545;\n",
              "                    background-color: #383838;\n",
              "                }\n",
              "                    \n",
              "                .geemap-dark .jupyter-button {\n",
              "                    --jp-layout-color3: #383838;\n",
              "                }\n",
              "                \n",
              "                .geemap-colab {\n",
              "                    background-color: var(--colab-primary-surface-color, white);\n",
              "                }\n",
              "                    \n",
              "                .geemap-colab .jupyter-button {\n",
              "                    --jp-layout-color3: var(--colab-primary-surface-color, white);\n",
              "                }\n",
              "            </style>\n",
              "            "
            ]
          },
          "metadata": {}
        },
        {
          "output_type": "display_data",
          "data": {
            "text/plain": [
              "<Figure size 640x480 with 2 Axes>"
            ],
            "image/png": "[encoded data removed]"
          },
          "metadata": {}
        }
      ]
    },
    {
      "cell_type": "markdown",
      "source": [
        "##Statistika : Perhitungan korelasi antara kecerlangan langit dengan data-data penunjang"
      ],
      "metadata": {
        "id": "S24B7oFN_uxO"
      }
    },
    {
      "cell_type": "markdown",
      "source": [
        "###Rerata dan Standar Deviasi Nilai Kecerlangan Langit Sumatra Utara"
      ],
      "metadata": {
        "id": "Gi0Ykea1_3l7"
      }
    },
    {
      "cell_type": "code",
      "source": [
        "from numpy import mean\n",
        "from numpy import std\n",
        "\n",
        "\n",
        "print('data1: mean=%.3f stdv=%.3f' % (mean(avgF), std(avgF)))"
      ],
      "metadata": {
        "colab": {
          "base_uri": "https://localhost:8080/"
        },
        "id": "qmyyKb483axl",
        "outputId": "dd21e098-3b7f-460d-ca6d-888f43990f7b"
      },
      "execution_count": null,
      "outputs": [
        {
          "output_type": "display_data",
          "data": {
            "text/plain": [
              "<IPython.core.display.HTML object>"
            ],
            "text/html": [
              "\n",
              "            <style>\n",
              "                .geemap-dark {\n",
              "                    --jp-widgets-color: white;\n",
              "                    --jp-widgets-label-color: white;\n",
              "                    --jp-ui-font-color1: white;\n",
              "                    --jp-layout-color2: #454545;\n",
              "                    background-color: #383838;\n",
              "                }\n",
              "                    \n",
              "                .geemap-dark .jupyter-button {\n",
              "                    --jp-layout-color3: #383838;\n",
              "                }\n",
              "                \n",
              "                .geemap-colab {\n",
              "                    background-color: var(--colab-primary-surface-color, white);\n",
              "                }\n",
              "                    \n",
              "                .geemap-colab .jupyter-button {\n",
              "                    --jp-layout-color3: var(--colab-primary-surface-color, white);\n",
              "                }\n",
              "            </style>\n",
              "            "
            ]
          },
          "metadata": {}
        },
        {
          "output_type": "stream",
          "name": "stdout",
          "text": [
            "data1: mean=0.381 stdv=0.093\n"
          ]
        }
      ]
    },
    {
      "cell_type": "code",
      "source": [
        "from numpy import cov\n",
        "\n",
        "covarianceipm = cov(avgF, ipm.IPM)\n",
        "covariancegwh = cov(avgF, ipm.GWh)\n",
        "covarianceelrt = cov(avgF, ipm.persen)"
      ],
      "metadata": {
        "colab": {
          "base_uri": "https://localhost:8080/"
        },
        "id": "og67hnIq30T1",
        "outputId": "8a317e6e-ed9e-4c9c-d23f-f9a8df496439"
      },
      "execution_count": null,
      "outputs": [
        {
          "output_type": "display_data",
          "data": {
            "text/plain": [
              "<IPython.core.display.HTML object>"
            ],
            "text/html": [
              "\n",
              "            <style>\n",
              "                .geemap-dark {\n",
              "                    --jp-widgets-color: white;\n",
              "                    --jp-widgets-label-color: white;\n",
              "                    --jp-ui-font-color1: white;\n",
              "                    --jp-layout-color2: #454545;\n",
              "                    background-color: #383838;\n",
              "                }\n",
              "                    \n",
              "                .geemap-dark .jupyter-button {\n",
              "                    --jp-layout-color3: #383838;\n",
              "                }\n",
              "                \n",
              "                .geemap-colab {\n",
              "                    background-color: var(--colab-primary-surface-color, white);\n",
              "                }\n",
              "                    \n",
              "                .geemap-colab .jupyter-button {\n",
              "                    --jp-layout-color3: var(--colab-primary-surface-color, white);\n",
              "                }\n",
              "            </style>\n",
              "            "
            ]
          },
          "metadata": {}
        }
      ]
    },
    {
      "cell_type": "code",
      "source": [
        "ipm.interpolate()"
      ],
      "metadata": {
        "colab": {
          "base_uri": "https://localhost:8080/"
        },
        "id": "BbtiaY4AMZAW",
        "outputId": "237d11e3-4700-4958-9094-3a07d80a657b"
      },
      "execution_count": null,
      "outputs": [
        {
          "output_type": "display_data",
          "data": {
            "text/plain": [
              "<IPython.core.display.HTML object>"
            ],
            "text/html": [
              "\n",
              "            <style>\n",
              "                .geemap-dark {\n",
              "                    --jp-widgets-color: white;\n",
              "                    --jp-widgets-label-color: white;\n",
              "                    --jp-ui-font-color1: white;\n",
              "                    --jp-layout-color2: #454545;\n",
              "                    background-color: #383838;\n",
              "                }\n",
              "                    \n",
              "                .geemap-dark .jupyter-button {\n",
              "                    --jp-layout-color3: #383838;\n",
              "                }\n",
              "                \n",
              "                .geemap-colab {\n",
              "                    background-color: var(--colab-primary-surface-color, white);\n",
              "                }\n",
              "                    \n",
              "                .geemap-colab .jupyter-button {\n",
              "                    --jp-layout-color3: var(--colab-primary-surface-color, white);\n",
              "                }\n",
              "            </style>\n",
              "            "
            ]
          },
          "metadata": {}
        },
        {
          "output_type": "execute_result",
          "data": {
            "text/plain": [
              "   Tahun    IPM       GWh  persen\n",
              "0   2014  68.87  18028.30   95.97\n",
              "1   2015  69.51  18876.59   96.81\n",
              "2   2016  70.00  18710.79   96.84\n",
              "3   2017  70.57  18544.99   97.41\n",
              "4   2018  71.18  20188.10   97.55\n",
              "5   2019  71.74  20764.57   98.37\n",
              "6   2020  71.77  20667.17   98.72"
            ],
            "text/html": [
              "\n",
              "  <div id=\"df-5ac31bc2-6765-46f5-b2dd-21f4443659ef\" class=\"colab-df-container\">\n",
              "    <div>\n",
              "<style scoped>\n",
              "    .dataframe tbody tr th:only-of-type {\n",
              "        vertical-align: middle;\n",
              "    }\n",
              "\n",
              "    .dataframe tbody tr th {\n",
              "        vertical-align: top;\n",
              "    }\n",
              "\n",
              "    .dataframe thead th {\n",
              "        text-align: right;\n",
              "    }\n",
              "</style>\n",
              "<table border=\"1\" class=\"dataframe\">\n",
              "  <thead>\n",
              "    <tr style=\"text-align: right;\">\n",
              "      <th></th>\n",
              "      <th>Tahun</th>\n",
              "      <th>IPM</th>\n",
              "      <th>GWh</th>\n",
              "      <th>persen</th>\n",
              "    </tr>\n",
              "  </thead>\n",
              "  <tbody>\n",
              "    <tr>\n",
              "      <th>0</th>\n",
              "      <td>2014</td>\n",
              "      <td>68.87</td>\n",
              "      <td>18028.30</td>\n",
              "      <td>95.97</td>\n",
              "    </tr>\n",
              "    <tr>\n",
              "      <th>1</th>\n",
              "      <td>2015</td>\n",
              "      <td>69.51</td>\n",
              "      <td>18876.59</td>\n",
              "      <td>96.81</td>\n",
              "    </tr>\n",
              "    <tr>\n",
              "      <th>2</th>\n",
              "      <td>2016</td>\n",
              "      <td>70.00</td>\n",
              "      <td>18710.79</td>\n",
              "      <td>96.84</td>\n",
              "    </tr>\n",
              "    <tr>\n",
              "      <th>3</th>\n",
              "      <td>2017</td>\n",
              "      <td>70.57</td>\n",
              "      <td>18544.99</td>\n",
              "      <td>97.41</td>\n",
              "    </tr>\n",
              "    <tr>\n",
              "      <th>4</th>\n",
              "      <td>2018</td>\n",
              "      <td>71.18</td>\n",
              "      <td>20188.10</td>\n",
              "      <td>97.55</td>\n",
              "    </tr>\n",
              "    <tr>\n",
              "      <th>5</th>\n",
              "      <td>2019</td>\n",
              "      <td>71.74</td>\n",
              "      <td>20764.57</td>\n",
              "      <td>98.37</td>\n",
              "    </tr>\n",
              "    <tr>\n",
              "      <th>6</th>\n",
              "      <td>2020</td>\n",
              "      <td>71.77</td>\n",
              "      <td>20667.17</td>\n",
              "      <td>98.72</td>\n",
              "    </tr>\n",
              "  </tbody>\n",
              "</table>\n",
              "</div>\n",
              "    <div class=\"colab-df-buttons\">\n",
              "\n",
              "  <div class=\"colab-df-container\">\n",
              "    <button class=\"colab-df-convert\" onclick=\"convertToInteractive('df-5ac31bc2-6765-46f5-b2dd-21f4443659ef')\"\n",
              "            title=\"Convert this dataframe to an interactive table.\"\n",
              "            style=\"display:none;\">\n",
              "\n",
              "  <svg xmlns=\"http://www.w3.org/2000/svg\" height=\"24px\" viewBox=\"0 -960 960 960\">\n",
              "    <path d=\"M120-120v-720h720v720H120Zm60-500h600v-160H180v160Zm220 220h160v-160H400v160Zm0 220h160v-160H400v160ZM180-400h160v-160H180v160Zm440 0h160v-160H620v160ZM180-180h160v-160H180v160Zm440 0h160v-160H620v160Z\"/>\n",
              "  </svg>\n",
              "    </button>\n",
              "\n",
              "  <style>\n",
              "    .colab-df-container {\n",
              "      display:flex;\n",
              "      gap: 12px;\n",
              "    }\n",
              "\n",
              "    .colab-df-convert {\n",
              "      background-color: #E8F0FE;\n",
              "      border: none;\n",
              "      border-radius: 50%;\n",
              "      cursor: pointer;\n",
              "      display: none;\n",
              "      fill: #1967D2;\n",
              "      height: 32px;\n",
              "      padding: 0 0 0 0;\n",
              "      width: 32px;\n",
              "    }\n",
              "\n",
              "    .colab-df-convert:hover {\n",
              "      background-color: #E2EBFA;\n",
              "      box-shadow: 0px 1px 2px rgba(60, 64, 67, 0.3), 0px 1px 3px 1px rgba(60, 64, 67, 0.15);\n",
              "      fill: #174EA6;\n",
              "    }\n",
              "\n",
              "    .colab-df-buttons div {\n",
              "      margin-bottom: 4px;\n",
              "    }\n",
              "\n",
              "    [theme=dark] .colab-df-convert {\n",
              "      background-color: #3B4455;\n",
              "      fill: #D2E3FC;\n",
              "    }\n",
              "\n",
              "    [theme=dark] .colab-df-convert:hover {\n",
              "      background-color: #434B5C;\n",
              "      box-shadow: 0px 1px 3px 1px rgba(0, 0, 0, 0.15);\n",
              "      filter: drop-shadow(0px 1px 2px rgba(0, 0, 0, 0.3));\n",
              "      fill: #FFFFFF;\n",
              "    }\n",
              "  </style>\n",
              "\n",
              "    <script>\n",
              "      const buttonEl =\n",
              "        document.querySelector('#df-5ac31bc2-6765-46f5-b2dd-21f4443659ef button.colab-df-convert');\n",
              "      buttonEl.style.display =\n",
              "        google.colab.kernel.accessAllowed ? 'block' : 'none';\n",
              "\n",
              "      async function convertToInteractive(key) {\n",
              "        const element = document.querySelector('#df-5ac31bc2-6765-46f5-b2dd-21f4443659ef');\n",
              "        const dataTable =\n",
              "          await google.colab.kernel.invokeFunction('convertToInteractive',\n",
              "                                                    [key], {});\n",
              "        if (!dataTable) return;\n",
              "\n",
              "        const docLinkHtml = 'Like what you see? Visit the ' +\n",
              "          '<a target=\"_blank\" href=https://colab.research.google.com/notebooks/data_table.ipynb>data table notebook</a>'\n",
              "          + ' to learn more about interactive tables.';\n",
              "        element.innerHTML = '';\n",
              "        dataTable['output_type'] = 'display_data';\n",
              "        await google.colab.output.renderOutput(dataTable, element);\n",
              "        const docLink = document.createElement('div');\n",
              "        docLink.innerHTML = docLinkHtml;\n",
              "        element.appendChild(docLink);\n",
              "      }\n",
              "    </script>\n",
              "  </div>\n",
              "\n",
              "\n",
              "<div id=\"df-94d16ad3-45a6-428d-8331-1a4716c93cb3\">\n",
              "  <button class=\"colab-df-quickchart\" onclick=\"quickchart('df-94d16ad3-45a6-428d-8331-1a4716c93cb3')\"\n",
              "            title=\"Suggest charts\"\n",
              "            style=\"display:none;\">\n",
              "\n",
              "<svg xmlns=\"http://www.w3.org/2000/svg\" height=\"24px\"viewBox=\"0 0 24 24\"\n",
              "     width=\"24px\">\n",
              "    <g>\n",
              "        <path d=\"M19 3H5c-1.1 0-2 .9-2 2v14c0 1.1.9 2 2 2h14c1.1 0 2-.9 2-2V5c0-1.1-.9-2-2-2zM9 17H7v-7h2v7zm4 0h-2V7h2v10zm4 0h-2v-4h2v4z\"/>\n",
              "    </g>\n",
              "</svg>\n",
              "  </button>\n",
              "\n",
              "<style>\n",
              "  .colab-df-quickchart {\n",
              "      --bg-color: #E8F0FE;\n",
              "      --fill-color: #1967D2;\n",
              "      --hover-bg-color: #E2EBFA;\n",
              "      --hover-fill-color: #174EA6;\n",
              "      --disabled-fill-color: #AAA;\n",
              "      --disabled-bg-color: #DDD;\n",
              "  }\n",
              "\n",
              "  [theme=dark] .colab-df-quickchart {\n",
              "      --bg-color: #3B4455;\n",
              "      --fill-color: #D2E3FC;\n",
              "      --hover-bg-color: #434B5C;\n",
              "      --hover-fill-color: #FFFFFF;\n",
              "      --disabled-bg-color: #3B4455;\n",
              "      --disabled-fill-color: #666;\n",
              "  }\n",
              "\n",
              "  .colab-df-quickchart {\n",
              "    background-color: var(--bg-color);\n",
              "    border: none;\n",
              "    border-radius: 50%;\n",
              "    cursor: pointer;\n",
              "    display: none;\n",
              "    fill: var(--fill-color);\n",
              "    height: 32px;\n",
              "    padding: 0;\n",
              "    width: 32px;\n",
              "  }\n",
              "\n",
              "  .colab-df-quickchart:hover {\n",
              "    background-color: var(--hover-bg-color);\n",
              "    box-shadow: 0 1px 2px rgba(60, 64, 67, 0.3), 0 1px 3px 1px rgba(60, 64, 67, 0.15);\n",
              "    fill: var(--button-hover-fill-color);\n",
              "  }\n",
              "\n",
              "  .colab-df-quickchart-complete:disabled,\n",
              "  .colab-df-quickchart-complete:disabled:hover {\n",
              "    background-color: var(--disabled-bg-color);\n",
              "    fill: var(--disabled-fill-color);\n",
              "    box-shadow: none;\n",
              "  }\n",
              "\n",
              "  .colab-df-spinner {\n",
              "    border: 2px solid var(--fill-color);\n",
              "    border-color: transparent;\n",
              "    border-bottom-color: var(--fill-color);\n",
              "    animation:\n",
              "      spin 1s steps(1) infinite;\n",
              "  }\n",
              "\n",
              "  @keyframes spin {\n",
              "    0% {\n",
              "      border-color: transparent;\n",
              "      border-bottom-color: var(--fill-color);\n",
              "      border-left-color: var(--fill-color);\n",
              "    }\n",
              "    20% {\n",
              "      border-color: transparent;\n",
              "      border-left-color: var(--fill-color);\n",
              "      border-top-color: var(--fill-color);\n",
              "    }\n",
              "    30% {\n",
              "      border-color: transparent;\n",
              "      border-left-color: var(--fill-color);\n",
              "      border-top-color: var(--fill-color);\n",
              "      border-right-color: var(--fill-color);\n",
              "    }\n",
              "    40% {\n",
              "      border-color: transparent;\n",
              "      border-right-color: var(--fill-color);\n",
              "      border-top-color: var(--fill-color);\n",
              "    }\n",
              "    60% {\n",
              "      border-color: transparent;\n",
              "      border-right-color: var(--fill-color);\n",
              "    }\n",
              "    80% {\n",
              "      border-color: transparent;\n",
              "      border-right-color: var(--fill-color);\n",
              "      border-bottom-color: var(--fill-color);\n",
              "    }\n",
              "    90% {\n",
              "      border-color: transparent;\n",
              "      border-bottom-color: var(--fill-color);\n",
              "    }\n",
              "  }\n",
              "</style>\n",
              "\n",
              "  <script>\n",
              "    async function quickchart(key) {\n",
              "      const quickchartButtonEl =\n",
              "        document.querySelector('#' + key + ' button');\n",
              "      quickchartButtonEl.disabled = true;  // To prevent multiple clicks.\n",
              "      quickchartButtonEl.classList.add('colab-df-spinner');\n",
              "      try {\n",
              "        const charts = await google.colab.kernel.invokeFunction(\n",
              "            'suggestCharts', [key], {});\n",
              "      } catch (error) {\n",
              "        console.error('Error during call to suggestCharts:', error);\n",
              "      }\n",
              "      quickchartButtonEl.classList.remove('colab-df-spinner');\n",
              "      quickchartButtonEl.classList.add('colab-df-quickchart-complete');\n",
              "    }\n",
              "    (() => {\n",
              "      let quickchartButtonEl =\n",
              "        document.querySelector('#df-94d16ad3-45a6-428d-8331-1a4716c93cb3 button');\n",
              "      quickchartButtonEl.style.display =\n",
              "        google.colab.kernel.accessAllowed ? 'block' : 'none';\n",
              "    })();\n",
              "  </script>\n",
              "</div>\n",
              "    </div>\n",
              "  </div>\n"
            ]
          },
          "metadata": {},
          "execution_count": 124
        }
      ]
    },
    {
      "cell_type": "markdown",
      "source": [
        "###Korelasi Pearson Kecerlangan Langit dengan data-data penunjang"
      ],
      "metadata": {
        "id": "4e_fP3rBAAzO"
      }
    },
    {
      "cell_type": "code",
      "source": [
        "from scipy.stats import pearsonr\n",
        "corripm, _ = pearsonr(avgF, ipm.IPM)\n",
        "print('Pearsons correlation antara Kecerlangan Langit dengan IPM : %.3f' % corripm)\n",
        "\n",
        "corrgwh, _ = pearsonr(avgF, ipm.GWh)\n",
        "print('Pearsons correlation antara Kecerlangan Langit dengan Tenaga Listrik yang Dibangkitkan : %.3f' % corrgwh)\n",
        "\n",
        "correl, _ = pearsonr(avgF, ipm.persen)\n",
        "print('Pearsons correlation antara Kecerlangan Langit dengan Sumber Penerangan dari Listrik: %.3f' % correl)"
      ],
      "metadata": {
        "colab": {
          "base_uri": "https://localhost:8080/"
        },
        "id": "HM36z2h64kY9",
        "outputId": "48e9ab86-9302-4a22-bf5c-0fe2801a7c35"
      },
      "execution_count": null,
      "outputs": [
        {
          "output_type": "display_data",
          "data": {
            "text/plain": [
              "<IPython.core.display.HTML object>"
            ],
            "text/html": [
              "\n",
              "            <style>\n",
              "                .geemap-dark {\n",
              "                    --jp-widgets-color: white;\n",
              "                    --jp-widgets-label-color: white;\n",
              "                    --jp-ui-font-color1: white;\n",
              "                    --jp-layout-color2: #454545;\n",
              "                    background-color: #383838;\n",
              "                }\n",
              "                    \n",
              "                .geemap-dark .jupyter-button {\n",
              "                    --jp-layout-color3: #383838;\n",
              "                }\n",
              "                \n",
              "                .geemap-colab {\n",
              "                    background-color: var(--colab-primary-surface-color, white);\n",
              "                }\n",
              "                    \n",
              "                .geemap-colab .jupyter-button {\n",
              "                    --jp-layout-color3: var(--colab-primary-surface-color, white);\n",
              "                }\n",
              "            </style>\n",
              "            "
            ]
          },
          "metadata": {}
        },
        {
          "output_type": "stream",
          "name": "stdout",
          "text": [
            "Pearsons correlation antara Kecerlangan Langit dengan IPM : 0.821\n",
            "Pearsons correlation antara Kecerlangan Langit dengan Tenaga Listrik yang Dibangkitkan : 0.703\n",
            "Pearsons correlation antara Kecerlangan Langit dengan Sumber Penerangan dari Listrik: 0.827\n"
          ]
        }
      ]
    },
    {
      "cell_type": "markdown",
      "source": [
        "###Tabel Korelasi Pearson"
      ],
      "metadata": {
        "id": "tKen5ksLDFs6"
      }
    },
    {
      "cell_type": "markdown",
      "source": [
        "![image.png](data:image/png;base64,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)"
      ],
      "metadata": {
        "id": "suU_XavTCb7-"
      }
    },
    {
      "cell_type": "markdown",
      "source": [
        "Dari tabel korelasi Pearson, **korelasi Kecerlangan Langit dengan IPM** dan **Kecerlangan Langit dengan Rumah Tangga dengan Sumber Penerangan dari Listrik sangat tinggi**, sedangkan **Kecerlangan Langit dengan Tenaga Listrik yang dibangkitkan** diinterpretasikan **cukup** (pada sumber lain diinterpretasikan **berkorelasi tinggi**) . Menurut saya, hal ini dikarenakan dilakukannya interpoladi data pada tahun  2016 yang kekosongan data pada Tenaga Listrik yang dibangkitkan."
      ],
      "metadata": {
        "id": "aiisuH3UB5DU"
      }
    }
  ]
}